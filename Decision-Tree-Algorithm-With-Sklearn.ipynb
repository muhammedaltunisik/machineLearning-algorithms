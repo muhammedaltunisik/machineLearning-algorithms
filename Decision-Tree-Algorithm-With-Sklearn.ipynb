{
 "cells": [
  {
   "cell_type": "markdown",
   "id": "1c1268f4",
   "metadata": {},
   "source": [
    "# Sklearn ile karar  ağacı algoritması geliştirme\n",
    "\n",
    "Karar ağaçlarının nasıl çalıştığıyla ilgili kaynak: [Karar Agaclari Nasil Calisir](https://erdincuzun.com/makine_ogrenmesi/decision-tree-karar-agaci-id3-algoritmasi-classification-siniflama/) "
   ]
  },
  {
   "cell_type": "code",
   "execution_count": 171,
   "id": "d411cb57",
   "metadata": {},
   "outputs": [],
   "source": [
    "#Kütüphane tanımlamaları\n",
    "\n",
    "import numpy as np\n",
    "import pandas as pd\n",
    "import matplotlib.pyplot as plt"
   ]
  },
  {
   "cell_type": "markdown",
   "id": "3c93188f",
   "metadata": {},
   "source": [
    "Elde ki veri kullanıcıların cinsiyeti, yaşı ve tahmini maaşına göre X ürünün satın aldığını ya da almadığını gösteriyor. "
   ]
  },
  {
   "cell_type": "code",
   "execution_count": 172,
   "id": "bc96ad1b",
   "metadata": {},
   "outputs": [
    {
     "data": {
      "text/html": [
       "<div>\n",
       "<style scoped>\n",
       "    .dataframe tbody tr th:only-of-type {\n",
       "        vertical-align: middle;\n",
       "    }\n",
       "\n",
       "    .dataframe tbody tr th {\n",
       "        vertical-align: top;\n",
       "    }\n",
       "\n",
       "    .dataframe thead th {\n",
       "        text-align: right;\n",
       "    }\n",
       "</style>\n",
       "<table border=\"1\" class=\"dataframe\">\n",
       "  <thead>\n",
       "    <tr style=\"text-align: right;\">\n",
       "      <th></th>\n",
       "      <th>KullaniciID</th>\n",
       "      <th>Cinsiyet</th>\n",
       "      <th>Yas</th>\n",
       "      <th>TahminiMaas</th>\n",
       "      <th>SatinAldiMi</th>\n",
       "    </tr>\n",
       "    <tr>\n",
       "      <th>ID</th>\n",
       "      <th></th>\n",
       "      <th></th>\n",
       "      <th></th>\n",
       "      <th></th>\n",
       "      <th></th>\n",
       "    </tr>\n",
       "  </thead>\n",
       "  <tbody>\n",
       "    <tr>\n",
       "      <th>0</th>\n",
       "      <td>15624510</td>\n",
       "      <td>Erkek</td>\n",
       "      <td>19</td>\n",
       "      <td>19000</td>\n",
       "      <td>0</td>\n",
       "    </tr>\n",
       "    <tr>\n",
       "      <th>1</th>\n",
       "      <td>15810944</td>\n",
       "      <td>Erkek</td>\n",
       "      <td>35</td>\n",
       "      <td>20000</td>\n",
       "      <td>0</td>\n",
       "    </tr>\n",
       "    <tr>\n",
       "      <th>2</th>\n",
       "      <td>15668575</td>\n",
       "      <td>Kadın</td>\n",
       "      <td>26</td>\n",
       "      <td>43000</td>\n",
       "      <td>0</td>\n",
       "    </tr>\n",
       "    <tr>\n",
       "      <th>3</th>\n",
       "      <td>15603246</td>\n",
       "      <td>Kadın</td>\n",
       "      <td>27</td>\n",
       "      <td>57000</td>\n",
       "      <td>0</td>\n",
       "    </tr>\n",
       "    <tr>\n",
       "      <th>4</th>\n",
       "      <td>15804002</td>\n",
       "      <td>Erkek</td>\n",
       "      <td>19</td>\n",
       "      <td>76000</td>\n",
       "      <td>0</td>\n",
       "    </tr>\n",
       "    <tr>\n",
       "      <th>...</th>\n",
       "      <td>...</td>\n",
       "      <td>...</td>\n",
       "      <td>...</td>\n",
       "      <td>...</td>\n",
       "      <td>...</td>\n",
       "    </tr>\n",
       "    <tr>\n",
       "      <th>395</th>\n",
       "      <td>15691863</td>\n",
       "      <td>Kadın</td>\n",
       "      <td>46</td>\n",
       "      <td>41000</td>\n",
       "      <td>1</td>\n",
       "    </tr>\n",
       "    <tr>\n",
       "      <th>396</th>\n",
       "      <td>15706071</td>\n",
       "      <td>Erkek</td>\n",
       "      <td>51</td>\n",
       "      <td>23000</td>\n",
       "      <td>1</td>\n",
       "    </tr>\n",
       "    <tr>\n",
       "      <th>397</th>\n",
       "      <td>15654296</td>\n",
       "      <td>Kadın</td>\n",
       "      <td>50</td>\n",
       "      <td>20000</td>\n",
       "      <td>1</td>\n",
       "    </tr>\n",
       "    <tr>\n",
       "      <th>398</th>\n",
       "      <td>15755018</td>\n",
       "      <td>Erkek</td>\n",
       "      <td>36</td>\n",
       "      <td>33000</td>\n",
       "      <td>0</td>\n",
       "    </tr>\n",
       "    <tr>\n",
       "      <th>399</th>\n",
       "      <td>15594041</td>\n",
       "      <td>Kadın</td>\n",
       "      <td>49</td>\n",
       "      <td>36000</td>\n",
       "      <td>1</td>\n",
       "    </tr>\n",
       "  </tbody>\n",
       "</table>\n",
       "<p>400 rows × 5 columns</p>\n",
       "</div>"
      ],
      "text/plain": [
       "     KullaniciID Cinsiyet  Yas  TahminiMaas  SatinAldiMi\n",
       "ID                                                      \n",
       "0       15624510    Erkek   19        19000            0\n",
       "1       15810944    Erkek   35        20000            0\n",
       "2       15668575    Kadın   26        43000            0\n",
       "3       15603246    Kadın   27        57000            0\n",
       "4       15804002    Erkek   19        76000            0\n",
       "..           ...      ...  ...          ...          ...\n",
       "395     15691863    Kadın   46        41000            1\n",
       "396     15706071    Erkek   51        23000            1\n",
       "397     15654296    Kadın   50        20000            1\n",
       "398     15755018    Erkek   36        33000            0\n",
       "399     15594041    Kadın   49        36000            1\n",
       "\n",
       "[400 rows x 5 columns]"
      ]
     },
     "execution_count": 172,
     "metadata": {},
     "output_type": "execute_result"
    }
   ],
   "source": [
    "#Verimizi dosya içerisinden çekip dataFrame haline getirme\n",
    "\n",
    "dataFrame = pd.read_csv('Dataset\\SosyalMedyaReklamKampanyası.csv')\n",
    "dataFrame.index.name = 'ID'\n",
    "\n",
    "dataFrame"
   ]
  },
  {
   "cell_type": "markdown",
   "id": "090eca8d",
   "metadata": {},
   "source": [
    "## Veri setini bağımlı ve bağımsız niteliklere ayırma\n",
    "\n",
    "Kullanıcı ID ve Cinsiyet sütunlarından kurtulucaz. Bağımsız değişken olarak yaş ve tahmini maaşı kullanıcaz."
   ]
  },
  {
   "cell_type": "code",
   "execution_count": 175,
   "id": "133791e7",
   "metadata": {},
   "outputs": [],
   "source": [
    "# Değişkenlerimiz, öz niteliklerimiz, Features\n",
    "x = dataFrame.iloc[:, [2,3]].values\n",
    "\n",
    "#Maaş kolonu\n",
    "y = dataFrame.iloc[:, 4].values\n"
   ]
  },
  {
   "cell_type": "markdown",
   "id": "5a367f5a",
   "metadata": {},
   "source": [
    "## Veri setini test ve train data olucak şekilde ayırdık.\n",
    "\n",
    "*x_train* ve *y_train* ile modelimizi eğitiriz. Eğittiğimiz modeli *x_test* datası ile çalıştırarak tahminde bulunmasını sağlıcaz. Elde ettiğimiz tahmin datalarını **y_test** yani gerçek data ile kıyaslayarak modelimizin başarı oranını bulucaz "
   ]
  },
  {
   "cell_type": "code",
   "execution_count": 176,
   "id": "934c8563",
   "metadata": {},
   "outputs": [],
   "source": [
    "#Veriyi test ve train data olacak şekilde ayırdık\n",
    "\n",
    "from sklearn.model_selection import train_test_split\n",
    "\n",
    "x_train, x_test, y_train, y_test = train_test_split(x,y,test_size=0.25, random_state= 0)"
   ]
  },
  {
   "cell_type": "markdown",
   "id": "914aaeea",
   "metadata": {},
   "source": [
    "## Normalizasyon işlemi\n",
    "\n",
    "Normalizasyon, verileri farklı ölçeklerde olduğu durumlarda, hepsini aynı ölçekte ifade ederek, \n",
    "daha etkili bir şekilde karşılaştırılmasını ve modellemesini sağlar. \n",
    "Özellikle makine öğrenmesi ve veri analizi gibi alanlarda veri ön işleme adımı olarak yaygın olarak kullanılır.\n",
    "\n",
    "Örneğin:\n",
    "Düşün birbirinden farklı özelliklere sahip oyuncak arabaların hızlarını ölçtüğünü ve hızları mil/saat cinsinden ifade ettiğini. Ancak bazı arabaların hızları daha büyük sayılar, bazıları ise daha küçük sayılar olabilir. Normalizasyon, bu hızları 0 ile 1 arasında olacak şekilde dönüştürmeye yardımcı olur. Böylece tüm hızlar aynı ölçekte olur ve daha kolay karşılaştırılabilirler. Yani, hızı 0.5 olan arabayı, hızı 0.1 olan arabaya göre daha hızlı anlarız."
   ]
  },
  {
   "cell_type": "code",
   "execution_count": 177,
   "id": "f639820d",
   "metadata": {},
   "outputs": [],
   "source": [
    "from sklearn.preprocessing import StandardScaler\n",
    "\n",
    "sc_x = StandardScaler()\n",
    "x_train = sc_x.fit_transform(x_train)\n",
    "x_test = sc_x.fit_transform(x_test)"
   ]
  },
  {
   "cell_type": "markdown",
   "id": "68f9f75d",
   "metadata": {},
   "source": [
    "## Karar agaci modelimizi olusturma ve eğitme (Model 1)\n",
    "\n",
    "criterion = 'entropy' ifadesi, DecisionTreeClassifier'ın algoritmasının hangi kriteri kullanarak ağacın dallarını bölmesi gerektiğini belirtir. Decision Tree algoritması, veri noktalarını karar düğümlerine bölmek için farklı kriterleri kullanabilir ve 'entropy' burada kullanılan bir kriterdir.\n",
    "\n",
    "Entropi, bilgi teorisi kavramlarından biridir ve bir veri kümesindeki düzensizliği veya belirsizliği ölçer. Bir düğümdeki verilerin homojen olduğu durumda (örneğin, sadece tek bir sınıfa ait veri noktaları varsa), entropi düşüktür. Ancak, veriler farklı sınıflara aitse, entropi yüksek olur ve düğüm daha düzensiz hale gelir."
   ]
  },
  {
   "cell_type": "code",
   "execution_count": 178,
   "id": "58dc80b9",
   "metadata": {},
   "outputs": [
    {
     "data": {
      "text/html": [
       "<style>#sk-container-id-8 {color: black;background-color: white;}#sk-container-id-8 pre{padding: 0;}#sk-container-id-8 div.sk-toggleable {background-color: white;}#sk-container-id-8 label.sk-toggleable__label {cursor: pointer;display: block;width: 100%;margin-bottom: 0;padding: 0.3em;box-sizing: border-box;text-align: center;}#sk-container-id-8 label.sk-toggleable__label-arrow:before {content: \"▸\";float: left;margin-right: 0.25em;color: #696969;}#sk-container-id-8 label.sk-toggleable__label-arrow:hover:before {color: black;}#sk-container-id-8 div.sk-estimator:hover label.sk-toggleable__label-arrow:before {color: black;}#sk-container-id-8 div.sk-toggleable__content {max-height: 0;max-width: 0;overflow: hidden;text-align: left;background-color: #f0f8ff;}#sk-container-id-8 div.sk-toggleable__content pre {margin: 0.2em;color: black;border-radius: 0.25em;background-color: #f0f8ff;}#sk-container-id-8 input.sk-toggleable__control:checked~div.sk-toggleable__content {max-height: 200px;max-width: 100%;overflow: auto;}#sk-container-id-8 input.sk-toggleable__control:checked~label.sk-toggleable__label-arrow:before {content: \"▾\";}#sk-container-id-8 div.sk-estimator input.sk-toggleable__control:checked~label.sk-toggleable__label {background-color: #d4ebff;}#sk-container-id-8 div.sk-label input.sk-toggleable__control:checked~label.sk-toggleable__label {background-color: #d4ebff;}#sk-container-id-8 input.sk-hidden--visually {border: 0;clip: rect(1px 1px 1px 1px);clip: rect(1px, 1px, 1px, 1px);height: 1px;margin: -1px;overflow: hidden;padding: 0;position: absolute;width: 1px;}#sk-container-id-8 div.sk-estimator {font-family: monospace;background-color: #f0f8ff;border: 1px dotted black;border-radius: 0.25em;box-sizing: border-box;margin-bottom: 0.5em;}#sk-container-id-8 div.sk-estimator:hover {background-color: #d4ebff;}#sk-container-id-8 div.sk-parallel-item::after {content: \"\";width: 100%;border-bottom: 1px solid gray;flex-grow: 1;}#sk-container-id-8 div.sk-label:hover label.sk-toggleable__label {background-color: #d4ebff;}#sk-container-id-8 div.sk-serial::before {content: \"\";position: absolute;border-left: 1px solid gray;box-sizing: border-box;top: 0;bottom: 0;left: 50%;z-index: 0;}#sk-container-id-8 div.sk-serial {display: flex;flex-direction: column;align-items: center;background-color: white;padding-right: 0.2em;padding-left: 0.2em;position: relative;}#sk-container-id-8 div.sk-item {position: relative;z-index: 1;}#sk-container-id-8 div.sk-parallel {display: flex;align-items: stretch;justify-content: center;background-color: white;position: relative;}#sk-container-id-8 div.sk-item::before, #sk-container-id-8 div.sk-parallel-item::before {content: \"\";position: absolute;border-left: 1px solid gray;box-sizing: border-box;top: 0;bottom: 0;left: 50%;z-index: -1;}#sk-container-id-8 div.sk-parallel-item {display: flex;flex-direction: column;z-index: 1;position: relative;background-color: white;}#sk-container-id-8 div.sk-parallel-item:first-child::after {align-self: flex-end;width: 50%;}#sk-container-id-8 div.sk-parallel-item:last-child::after {align-self: flex-start;width: 50%;}#sk-container-id-8 div.sk-parallel-item:only-child::after {width: 0;}#sk-container-id-8 div.sk-dashed-wrapped {border: 1px dashed gray;margin: 0 0.4em 0.5em 0.4em;box-sizing: border-box;padding-bottom: 0.4em;background-color: white;}#sk-container-id-8 div.sk-label label {font-family: monospace;font-weight: bold;display: inline-block;line-height: 1.2em;}#sk-container-id-8 div.sk-label-container {text-align: center;}#sk-container-id-8 div.sk-container {/* jupyter's `normalize.less` sets `[hidden] { display: none; }` but bootstrap.min.css set `[hidden] { display: none !important; }` so we also need the `!important` here to be able to override the default hidden behavior on the sphinx rendered scikit-learn.org. See: https://github.com/scikit-learn/scikit-learn/issues/21755 */display: inline-block !important;position: relative;}#sk-container-id-8 div.sk-text-repr-fallback {display: none;}</style><div id=\"sk-container-id-8\" class=\"sk-top-container\"><div class=\"sk-text-repr-fallback\"><pre>DecisionTreeClassifier(criterion=&#x27;entropy&#x27;, random_state=0)</pre><b>In a Jupyter environment, please rerun this cell to show the HTML representation or trust the notebook. <br />On GitHub, the HTML representation is unable to render, please try loading this page with nbviewer.org.</b></div><div class=\"sk-container\" hidden><div class=\"sk-item\"><div class=\"sk-estimator sk-toggleable\"><input class=\"sk-toggleable__control sk-hidden--visually\" id=\"sk-estimator-id-8\" type=\"checkbox\" checked><label for=\"sk-estimator-id-8\" class=\"sk-toggleable__label sk-toggleable__label-arrow\">DecisionTreeClassifier</label><div class=\"sk-toggleable__content\"><pre>DecisionTreeClassifier(criterion=&#x27;entropy&#x27;, random_state=0)</pre></div></div></div></div></div>"
      ],
      "text/plain": [
       "DecisionTreeClassifier(criterion='entropy', random_state=0)"
      ]
     },
     "execution_count": 178,
     "metadata": {},
     "output_type": "execute_result"
    }
   ],
   "source": [
    "# Karar ağacı modelini oluşturmak ve eğitmek\n",
    "# Budama yapmadığımız için overfitting bir model oluşturduk\n",
    "\n",
    "from sklearn.tree import DecisionTreeClassifier\n",
    "\n",
    "\n",
    "model1 = DecisionTreeClassifier(criterion = 'entropy', random_state=0)\n",
    "model1.fit(x_train,y_train)"
   ]
  },
  {
   "cell_type": "markdown",
   "id": "de936d08",
   "metadata": {},
   "source": [
    "### Model Tahminleri"
   ]
  },
  {
   "cell_type": "code",
   "execution_count": 179,
   "id": "3cc53e34",
   "metadata": {},
   "outputs": [
    {
     "data": {
      "text/html": [
       "<div>\n",
       "<style scoped>\n",
       "    .dataframe tbody tr th:only-of-type {\n",
       "        vertical-align: middle;\n",
       "    }\n",
       "\n",
       "    .dataframe tbody tr th {\n",
       "        vertical-align: top;\n",
       "    }\n",
       "\n",
       "    .dataframe thead th {\n",
       "        text-align: right;\n",
       "    }\n",
       "</style>\n",
       "<table border=\"1\" class=\"dataframe\">\n",
       "  <thead>\n",
       "    <tr style=\"text-align: right;\">\n",
       "      <th></th>\n",
       "      <th>Gercek Deger</th>\n",
       "      <th>Tahmin Degerleri</th>\n",
       "    </tr>\n",
       "  </thead>\n",
       "  <tbody>\n",
       "    <tr>\n",
       "      <th>0</th>\n",
       "      <td>0</td>\n",
       "      <td>0</td>\n",
       "    </tr>\n",
       "    <tr>\n",
       "      <th>1</th>\n",
       "      <td>0</td>\n",
       "      <td>0</td>\n",
       "    </tr>\n",
       "    <tr>\n",
       "      <th>2</th>\n",
       "      <td>0</td>\n",
       "      <td>0</td>\n",
       "    </tr>\n",
       "    <tr>\n",
       "      <th>3</th>\n",
       "      <td>0</td>\n",
       "      <td>0</td>\n",
       "    </tr>\n",
       "    <tr>\n",
       "      <th>4</th>\n",
       "      <td>0</td>\n",
       "      <td>0</td>\n",
       "    </tr>\n",
       "    <tr>\n",
       "      <th>5</th>\n",
       "      <td>0</td>\n",
       "      <td>0</td>\n",
       "    </tr>\n",
       "    <tr>\n",
       "      <th>6</th>\n",
       "      <td>0</td>\n",
       "      <td>0</td>\n",
       "    </tr>\n",
       "    <tr>\n",
       "      <th>7</th>\n",
       "      <td>1</td>\n",
       "      <td>1</td>\n",
       "    </tr>\n",
       "    <tr>\n",
       "      <th>8</th>\n",
       "      <td>0</td>\n",
       "      <td>0</td>\n",
       "    </tr>\n",
       "    <tr>\n",
       "      <th>9</th>\n",
       "      <td>0</td>\n",
       "      <td>1</td>\n",
       "    </tr>\n",
       "    <tr>\n",
       "      <th>10</th>\n",
       "      <td>0</td>\n",
       "      <td>0</td>\n",
       "    </tr>\n",
       "    <tr>\n",
       "      <th>11</th>\n",
       "      <td>0</td>\n",
       "      <td>0</td>\n",
       "    </tr>\n",
       "    <tr>\n",
       "      <th>12</th>\n",
       "      <td>0</td>\n",
       "      <td>0</td>\n",
       "    </tr>\n",
       "    <tr>\n",
       "      <th>13</th>\n",
       "      <td>0</td>\n",
       "      <td>0</td>\n",
       "    </tr>\n",
       "    <tr>\n",
       "      <th>14</th>\n",
       "      <td>0</td>\n",
       "      <td>0</td>\n",
       "    </tr>\n",
       "    <tr>\n",
       "      <th>15</th>\n",
       "      <td>0</td>\n",
       "      <td>1</td>\n",
       "    </tr>\n",
       "    <tr>\n",
       "      <th>16</th>\n",
       "      <td>0</td>\n",
       "      <td>1</td>\n",
       "    </tr>\n",
       "  </tbody>\n",
       "</table>\n",
       "</div>"
      ],
      "text/plain": [
       "    Gercek Deger  Tahmin Degerleri\n",
       "0              0                 0\n",
       "1              0                 0\n",
       "2              0                 0\n",
       "3              0                 0\n",
       "4              0                 0\n",
       "5              0                 0\n",
       "6              0                 0\n",
       "7              1                 1\n",
       "8              0                 0\n",
       "9              0                 1\n",
       "10             0                 0\n",
       "11             0                 0\n",
       "12             0                 0\n",
       "13             0                 0\n",
       "14             0                 0\n",
       "15             0                 1\n",
       "16             0                 1"
      ]
     },
     "execution_count": 179,
     "metadata": {},
     "output_type": "execute_result"
    }
   ],
   "source": [
    "# tahminde bulunma\n",
    "# overfitting olduğu için tahminlerde yanlışlık var\n",
    "\n",
    "tahminDegerleri = model1.predict(x_test) #Test verileri ile tahminde bulundurttuk\n",
    "\n",
    "tahminVeGercek = pd.DataFrame(y_test, columns= [\"Gercek Deger\"])\n",
    "tahminVeGercek[\"Tahmin Degerleri\"] = tahminDegerleri\n",
    "\n",
    "tahminVeGercek.head(17)"
   ]
  },
  {
   "cell_type": "code",
   "execution_count": 180,
   "id": "aaf2529a",
   "metadata": {},
   "outputs": [
    {
     "name": "stdout",
     "output_type": "stream",
     "text": [
      "[[61  7]\n",
      " [ 3 29]]\n"
     ]
    }
   ],
   "source": [
    "# Hata matrisi olusturma\n",
    "# [61  7] ifadesi 61 doğru tahmin 7 yanlış tahminimiz olduğu anlamına gelir\n",
    "\n",
    "from sklearn.metrics import confusion_matrix\n",
    "\n",
    "cm = confusion_matrix(y_test, tahminDegerleri)\n",
    "print(cm)"
   ]
  },
  {
   "cell_type": "code",
   "execution_count": 181,
   "id": "5f63df9d",
   "metadata": {},
   "outputs": [
    {
     "name": "stdout",
     "output_type": "stream",
     "text": [
      "Train dataları ile modelin basari oranı: 1.0\n",
      "Test dataları ile modelin basari oranı: 0.9\n"
     ]
    }
   ],
   "source": [
    "#Modelin test ve train başarıları\n",
    "\n",
    "print(f\"Train dataları ile modelin basari oranı:\",model1.score(x_train,y_train))\n",
    "print(f\"Test dataları ile modelin basari oranı:\",model1.score(x_test,y_test))"
   ]
  },
  {
   "cell_type": "markdown",
   "id": "c041807a",
   "metadata": {},
   "source": [
    "# Modeli genelleştirme\n",
    "\n",
    "Karar ağacı algoritmaları doğaları gereği train data ile kesin bir uyum içerisinde olurlar. Yani train datayı tamamen ezberlerler. Bu ezber sonucu yüzünden test dataları ile tahminde bulunduğumuz zaman, modelin yanlış tahminde bulunma olasılığı artar. Bu olaya overfitting denir.\n",
    "\n",
    "Overfitting'i engellemek için ağaç budaması yapabiliriz. 2 çeşit budama vardır bunlardan bir tane pre-pruning(erken budama) diğeri ise post-pruning(geç budama) yapmaktır.\n",
    "\n",
    "***Pre-Pruning:*** Bir düğüme ulaşan örnek datanın sayısı ilk baştaki datanın belirli bir oranının altına düştüyse düğüm daha fazla bölünmez. Train hatası fazlalaşır fakat test hatası azalır.\n",
    "\n",
    "Örnek: İlk başta 100 data varsa gelinen düğümde data sayını ilk baştaki data sayısının örneğin %10'nu kadar yada daha azsa ve homojen değilse (*7 evet* , *3 hayır* gibi). Çoğunluk olan datayı yaprak yap *(evet)*.\n",
    "\n",
    "***Post-Pruning:*** Birden fazla ağaç oluşturur. Sonrasında bu ağaçlar üzerinde kırpma işlemleri yapar. Her ağaç için train datayı dener ve doğruluk oranı alarak en iyi ağaç modelini oluşturur.\n",
    "\n",
    "\n",
    "-----------------------------------------------------------"
   ]
  },
  {
   "cell_type": "markdown",
   "id": "f33d647b",
   "metadata": {},
   "source": [
    "## Pre-pruning (Model 2)\n",
    "\n",
    "**max_depth** parametresi ile oluşucak karar ağacının derinliğini sınırladık. Yani oluşan karar ağacı maksimum 4 düğüm(katman) içerebilicek"
   ]
  },
  {
   "cell_type": "code",
   "execution_count": 182,
   "id": "dd3a853e",
   "metadata": {},
   "outputs": [
    {
     "data": {
      "text/html": [
       "<style>#sk-container-id-9 {color: black;background-color: white;}#sk-container-id-9 pre{padding: 0;}#sk-container-id-9 div.sk-toggleable {background-color: white;}#sk-container-id-9 label.sk-toggleable__label {cursor: pointer;display: block;width: 100%;margin-bottom: 0;padding: 0.3em;box-sizing: border-box;text-align: center;}#sk-container-id-9 label.sk-toggleable__label-arrow:before {content: \"▸\";float: left;margin-right: 0.25em;color: #696969;}#sk-container-id-9 label.sk-toggleable__label-arrow:hover:before {color: black;}#sk-container-id-9 div.sk-estimator:hover label.sk-toggleable__label-arrow:before {color: black;}#sk-container-id-9 div.sk-toggleable__content {max-height: 0;max-width: 0;overflow: hidden;text-align: left;background-color: #f0f8ff;}#sk-container-id-9 div.sk-toggleable__content pre {margin: 0.2em;color: black;border-radius: 0.25em;background-color: #f0f8ff;}#sk-container-id-9 input.sk-toggleable__control:checked~div.sk-toggleable__content {max-height: 200px;max-width: 100%;overflow: auto;}#sk-container-id-9 input.sk-toggleable__control:checked~label.sk-toggleable__label-arrow:before {content: \"▾\";}#sk-container-id-9 div.sk-estimator input.sk-toggleable__control:checked~label.sk-toggleable__label {background-color: #d4ebff;}#sk-container-id-9 div.sk-label input.sk-toggleable__control:checked~label.sk-toggleable__label {background-color: #d4ebff;}#sk-container-id-9 input.sk-hidden--visually {border: 0;clip: rect(1px 1px 1px 1px);clip: rect(1px, 1px, 1px, 1px);height: 1px;margin: -1px;overflow: hidden;padding: 0;position: absolute;width: 1px;}#sk-container-id-9 div.sk-estimator {font-family: monospace;background-color: #f0f8ff;border: 1px dotted black;border-radius: 0.25em;box-sizing: border-box;margin-bottom: 0.5em;}#sk-container-id-9 div.sk-estimator:hover {background-color: #d4ebff;}#sk-container-id-9 div.sk-parallel-item::after {content: \"\";width: 100%;border-bottom: 1px solid gray;flex-grow: 1;}#sk-container-id-9 div.sk-label:hover label.sk-toggleable__label {background-color: #d4ebff;}#sk-container-id-9 div.sk-serial::before {content: \"\";position: absolute;border-left: 1px solid gray;box-sizing: border-box;top: 0;bottom: 0;left: 50%;z-index: 0;}#sk-container-id-9 div.sk-serial {display: flex;flex-direction: column;align-items: center;background-color: white;padding-right: 0.2em;padding-left: 0.2em;position: relative;}#sk-container-id-9 div.sk-item {position: relative;z-index: 1;}#sk-container-id-9 div.sk-parallel {display: flex;align-items: stretch;justify-content: center;background-color: white;position: relative;}#sk-container-id-9 div.sk-item::before, #sk-container-id-9 div.sk-parallel-item::before {content: \"\";position: absolute;border-left: 1px solid gray;box-sizing: border-box;top: 0;bottom: 0;left: 50%;z-index: -1;}#sk-container-id-9 div.sk-parallel-item {display: flex;flex-direction: column;z-index: 1;position: relative;background-color: white;}#sk-container-id-9 div.sk-parallel-item:first-child::after {align-self: flex-end;width: 50%;}#sk-container-id-9 div.sk-parallel-item:last-child::after {align-self: flex-start;width: 50%;}#sk-container-id-9 div.sk-parallel-item:only-child::after {width: 0;}#sk-container-id-9 div.sk-dashed-wrapped {border: 1px dashed gray;margin: 0 0.4em 0.5em 0.4em;box-sizing: border-box;padding-bottom: 0.4em;background-color: white;}#sk-container-id-9 div.sk-label label {font-family: monospace;font-weight: bold;display: inline-block;line-height: 1.2em;}#sk-container-id-9 div.sk-label-container {text-align: center;}#sk-container-id-9 div.sk-container {/* jupyter's `normalize.less` sets `[hidden] { display: none; }` but bootstrap.min.css set `[hidden] { display: none !important; }` so we also need the `!important` here to be able to override the default hidden behavior on the sphinx rendered scikit-learn.org. See: https://github.com/scikit-learn/scikit-learn/issues/21755 */display: inline-block !important;position: relative;}#sk-container-id-9 div.sk-text-repr-fallback {display: none;}</style><div id=\"sk-container-id-9\" class=\"sk-top-container\"><div class=\"sk-text-repr-fallback\"><pre>DecisionTreeClassifier(criterion=&#x27;entropy&#x27;, max_depth=4, random_state=0)</pre><b>In a Jupyter environment, please rerun this cell to show the HTML representation or trust the notebook. <br />On GitHub, the HTML representation is unable to render, please try loading this page with nbviewer.org.</b></div><div class=\"sk-container\" hidden><div class=\"sk-item\"><div class=\"sk-estimator sk-toggleable\"><input class=\"sk-toggleable__control sk-hidden--visually\" id=\"sk-estimator-id-9\" type=\"checkbox\" checked><label for=\"sk-estimator-id-9\" class=\"sk-toggleable__label sk-toggleable__label-arrow\">DecisionTreeClassifier</label><div class=\"sk-toggleable__content\"><pre>DecisionTreeClassifier(criterion=&#x27;entropy&#x27;, max_depth=4, random_state=0)</pre></div></div></div></div></div>"
      ],
      "text/plain": [
       "DecisionTreeClassifier(criterion='entropy', max_depth=4, random_state=0)"
      ]
     },
     "execution_count": 182,
     "metadata": {},
     "output_type": "execute_result"
    }
   ],
   "source": [
    "model2 = DecisionTreeClassifier(criterion = 'entropy', random_state=0, max_depth=4)\n",
    "model2.fit(x_train,y_train) #Modeli eğitme"
   ]
  },
  {
   "cell_type": "markdown",
   "id": "ce975eb4",
   "metadata": {},
   "source": [
    "### Model tahminleri"
   ]
  },
  {
   "cell_type": "code",
   "execution_count": 183,
   "id": "a285857b",
   "metadata": {},
   "outputs": [
    {
     "data": {
      "text/html": [
       "<div>\n",
       "<style scoped>\n",
       "    .dataframe tbody tr th:only-of-type {\n",
       "        vertical-align: middle;\n",
       "    }\n",
       "\n",
       "    .dataframe tbody tr th {\n",
       "        vertical-align: top;\n",
       "    }\n",
       "\n",
       "    .dataframe thead th {\n",
       "        text-align: right;\n",
       "    }\n",
       "</style>\n",
       "<table border=\"1\" class=\"dataframe\">\n",
       "  <thead>\n",
       "    <tr style=\"text-align: right;\">\n",
       "      <th></th>\n",
       "      <th>Gercek Deger</th>\n",
       "      <th>Tahmin Degerleri</th>\n",
       "    </tr>\n",
       "  </thead>\n",
       "  <tbody>\n",
       "    <tr>\n",
       "      <th>0</th>\n",
       "      <td>0</td>\n",
       "      <td>0</td>\n",
       "    </tr>\n",
       "    <tr>\n",
       "      <th>1</th>\n",
       "      <td>0</td>\n",
       "      <td>0</td>\n",
       "    </tr>\n",
       "    <tr>\n",
       "      <th>2</th>\n",
       "      <td>0</td>\n",
       "      <td>0</td>\n",
       "    </tr>\n",
       "    <tr>\n",
       "      <th>3</th>\n",
       "      <td>0</td>\n",
       "      <td>0</td>\n",
       "    </tr>\n",
       "    <tr>\n",
       "      <th>4</th>\n",
       "      <td>0</td>\n",
       "      <td>0</td>\n",
       "    </tr>\n",
       "    <tr>\n",
       "      <th>5</th>\n",
       "      <td>0</td>\n",
       "      <td>0</td>\n",
       "    </tr>\n",
       "    <tr>\n",
       "      <th>6</th>\n",
       "      <td>0</td>\n",
       "      <td>0</td>\n",
       "    </tr>\n",
       "    <tr>\n",
       "      <th>7</th>\n",
       "      <td>1</td>\n",
       "      <td>1</td>\n",
       "    </tr>\n",
       "    <tr>\n",
       "      <th>8</th>\n",
       "      <td>0</td>\n",
       "      <td>0</td>\n",
       "    </tr>\n",
       "    <tr>\n",
       "      <th>9</th>\n",
       "      <td>0</td>\n",
       "      <td>1</td>\n",
       "    </tr>\n",
       "    <tr>\n",
       "      <th>10</th>\n",
       "      <td>0</td>\n",
       "      <td>0</td>\n",
       "    </tr>\n",
       "    <tr>\n",
       "      <th>11</th>\n",
       "      <td>0</td>\n",
       "      <td>0</td>\n",
       "    </tr>\n",
       "    <tr>\n",
       "      <th>12</th>\n",
       "      <td>0</td>\n",
       "      <td>0</td>\n",
       "    </tr>\n",
       "    <tr>\n",
       "      <th>13</th>\n",
       "      <td>0</td>\n",
       "      <td>0</td>\n",
       "    </tr>\n",
       "    <tr>\n",
       "      <th>14</th>\n",
       "      <td>0</td>\n",
       "      <td>0</td>\n",
       "    </tr>\n",
       "    <tr>\n",
       "      <th>15</th>\n",
       "      <td>0</td>\n",
       "      <td>1</td>\n",
       "    </tr>\n",
       "    <tr>\n",
       "      <th>16</th>\n",
       "      <td>0</td>\n",
       "      <td>0</td>\n",
       "    </tr>\n",
       "  </tbody>\n",
       "</table>\n",
       "</div>"
      ],
      "text/plain": [
       "    Gercek Deger  Tahmin Degerleri\n",
       "0              0                 0\n",
       "1              0                 0\n",
       "2              0                 0\n",
       "3              0                 0\n",
       "4              0                 0\n",
       "5              0                 0\n",
       "6              0                 0\n",
       "7              1                 1\n",
       "8              0                 0\n",
       "9              0                 1\n",
       "10             0                 0\n",
       "11             0                 0\n",
       "12             0                 0\n",
       "13             0                 0\n",
       "14             0                 0\n",
       "15             0                 1\n",
       "16             0                 0"
      ]
     },
     "execution_count": 183,
     "metadata": {},
     "output_type": "execute_result"
    }
   ],
   "source": [
    "tahminDegerleri = model2.predict(x_test)\n",
    "\n",
    "tahminVeGercek = pd.DataFrame(y_test, columns= [\"Gercek Deger\"])\n",
    "tahminVeGercek[\"Tahmin Degerleri\"] = tahminDegerleri\n",
    "\n",
    "tahminVeGercek.head(17)"
   ]
  },
  {
   "cell_type": "code",
   "execution_count": 184,
   "id": "08f9f174",
   "metadata": {},
   "outputs": [
    {
     "name": "stdout",
     "output_type": "stream",
     "text": [
      "[[64  4]\n",
      " [ 3 29]]\n"
     ]
    }
   ],
   "source": [
    "# Hata matrisi olusturma\n",
    "# [61  4] ifadesi 64 doğru tahmin ve 4 yanlış tahminimiz olduğu anlamına gelir\n",
    "\n",
    "cm = confusion_matrix(y_test, tahminDegerleri)\n",
    "print(cm)"
   ]
  },
  {
   "cell_type": "code",
   "execution_count": 185,
   "id": "a3acdb76",
   "metadata": {
    "scrolled": true
   },
   "outputs": [
    {
     "name": "stdout",
     "output_type": "stream",
     "text": [
      "Train dataları ile modelin basari oranı: 0.9166666666666666\n",
      "Test dataları ile modelin basari oranı: 0.93\n"
     ]
    }
   ],
   "source": [
    "print(f\"Train dataları ile modelin basari oranı:\",model2.score(x_train,y_train))\n",
    "print(f\"Test dataları ile modelin basari oranı:\",model2.score(x_test,y_test))\n",
    "\n",
    "#Görüldüğü üzere train datanın başarısı düşmüş fakat test datanın başarısı artmıştır."
   ]
  },
  {
   "cell_type": "markdown",
   "id": "2dfb5042",
   "metadata": {},
   "source": [
    "## Post-pruning (Model 3)\n",
    "\n",
    "Maliyet karmaşıklık yolu hesabını kullanıcaz:\n",
    "\n",
    "Maliyet-karmaşıklık yolu, karar ağacının budama düzeylerini temsil eden \n",
    "farklı alfa (α) değerlerini içerir. Bu alfa değerleri, ağacın dallarının \n",
    "kesilme düzeyini kontrol eder. Daha yüksek alfa değerleri, daha fazla \n",
    "budamanın yapılmasına ve daha basit bir modelin elde edilmesine yol açar."
   ]
  },
  {
   "cell_type": "code",
   "execution_count": 186,
   "id": "4347eb84",
   "metadata": {},
   "outputs": [],
   "source": [
    "# x_train ve y_train değerlerimiz hazır olduğu için sadece modeli kurucaz\n",
    "\n",
    "model3 = DecisionTreeClassifier(random_state=0) #Model oluşturma\n",
    "\n",
    "\n",
    "#Bu satırda oluşturulan modelin maliyet-karmaşıklık yolu bulunmaya çalışılır.\n",
    "path = model3.cost_complexity_pruning_path(x_train,y_train)\n",
    "ccp_alphas, karmasiklik = path.ccp_alphas, path.impurities"
   ]
  },
  {
   "cell_type": "code",
   "execution_count": 187,
   "id": "db06eb6c",
   "metadata": {},
   "outputs": [],
   "source": [
    "\"\"\"\n",
    "Her alpha değerini kullanarak farklı bir karar ağacı oluşturuyoruz.\n",
    "Alpha değeri karar ağacının budanma düzeyini gösterir. Oluşturduğumuz karar\n",
    "ağaçlarını eğitip sonrasında bir listeye ekliyoruz.\n",
    "\"\"\"\n",
    "\n",
    "modeller = []\n",
    "\n",
    "#Karar ağac\n",
    "for ccp_alpha in ccp_alphas:\n",
    "    model3 = DecisionTreeClassifier(random_state=0, ccp_alpha=ccp_alpha)\n",
    "    model3.fit(x_train,y_train)\n",
    "    modeller.append(model3)\n",
    "    "
   ]
  },
  {
   "cell_type": "code",
   "execution_count": 188,
   "id": "9fd926ac",
   "metadata": {},
   "outputs": [],
   "source": [
    "modeller = modeller[:-1]\n",
    "ccp_alphas = ccp_alphas[:-1]"
   ]
  },
  {
   "cell_type": "markdown",
   "id": "8de404db",
   "metadata": {},
   "source": [
    "### Oluşan ağaçların düğüm sayısını ve karmaşıklığını görselleştirme"
   ]
  },
  {
   "cell_type": "code",
   "execution_count": 189,
   "id": "8788ca49",
   "metadata": {},
   "outputs": [
    {
     "data": {
      "image/png": "[encoded data removed]",
      "text/plain": [
       "<Figure size 640x480 with 2 Axes>"
      ]
     },
     "metadata": {},
     "output_type": "display_data"
    }
   ],
   "source": [
    "node_sayaci = [model.tree_.node_count for model in modeller]\n",
    "derinlik = [model.tree_.max_depth for model in modeller]\n",
    "\n",
    "fig, ax = plt.subplots(2, 1)\n",
    "ax[0].plot(ccp_alphas, node_sayaci, marker=\"o\", drawstyle=\"steps-post\")\n",
    "ax[0].set_xlabel(\"Alpha\")\n",
    "ax[0].set_ylabel(\"Düğüm sayısı\")\n",
    "ax[0].set_title(\"Düğüm sayısı vs Alpha\")\n",
    "\n",
    "ax[1].plot(ccp_alphas, derinlik, marker=\"o\", drawstyle=\"steps-post\")\n",
    "ax[1].set_xlabel(\"Alpha\")\n",
    "ax[1].set_ylabel(\"Düğüm sayısı\")\n",
    "ax[1].set_title(\"Derlinlik vs alpha\")\n",
    "fig.tight_layout()"
   ]
  },
  {
   "cell_type": "markdown",
   "id": "5662d93b",
   "metadata": {},
   "source": [
    "### Eğitim ve test setleri için doğruluk ve alfa karşılaştırması"
   ]
  },
  {
   "cell_type": "code",
   "execution_count": 190,
   "id": "e30eb4a2",
   "metadata": {
    "scrolled": false
   },
   "outputs": [
    {
     "data": {
      "image/png": "[encoded data removed]",
      "text/plain": [
       "<Figure size 640x480 with 1 Axes>"
      ]
     },
     "metadata": {},
     "output_type": "display_data"
    }
   ],
   "source": [
    "train_scores = [model.score(x_train, y_train) for model in modeller]\n",
    "test_scores = [model.score(x_test, y_test) for model in modeller]\n",
    "\n",
    "fig, ax = plt.subplots()\n",
    "ax.set_xlabel(\"Alpha\")\n",
    "ax.set_ylabel(\"Dogruluk\")\n",
    "ax.set_title(\"Eğitim ve test setleri için doğruluk ve alfa\")\n",
    "ax.plot(ccp_alphas, train_scores, marker=\"o\", label=\"train\", drawstyle=\"steps-post\")\n",
    "ax.plot(ccp_alphas, test_scores, marker=\"o\", label=\"test\", drawstyle=\"steps-post\")\n",
    "ax.legend()\n",
    "plt.show()"
   ]
  },
  {
   "cell_type": "markdown",
   "id": "fc766fbd",
   "metadata": {},
   "source": [
    "### Dogruluk degeri ve index numarası\n",
    "\n",
    "Yukarıda her alpha değeri için bir ağaç oluşturup sonrasında bu ağaçları eğitmiş ve eğittiğimiz ağaçları bir liste içerisine atmıştık. Ağaçların  Alpha değerleri ve doğruluk grafiklerini, alpha değeri ve düğüm sayısı vb. görselleştirmelerini yaptı. Bu kısımda ise hangi indexte ki ağacın doğruluk oranı daha fazla onun görselleştirmesini yaptık."
   ]
  },
  {
   "cell_type": "code",
   "execution_count": 191,
   "id": "be29ab13",
   "metadata": {
    "scrolled": false
   },
   "outputs": [
    {
     "data": {
      "text/plain": [
       "Text(0.5, 1.0, 'Dogruluk Degeri ve Index No')"
      ]
     },
     "execution_count": 191,
     "metadata": {},
     "output_type": "execute_result"
    },
    {
     "data": {
      "image/png": "[encoded data removed]",
      "text/plain": [
       "<Figure size 640x480 with 1 Axes>"
      ]
     },
     "metadata": {},
     "output_type": "display_data"
    }
   ],
   "source": [
    "x = list(zip(ccp_alphas,test_scores))\n",
    "\n",
    "\n",
    "plt.plot([i for i in range(len(x))], [deger[1] for deger in x], marker = \"o\", color = \"g\")\n",
    "plt.xlabel(\"Index Numarasi\")\n",
    "plt.ylabel(\"Dogruluk Degeri\")\n",
    "plt.title(\"Dogruluk Degeri ve Index No\")"
   ]
  },
  {
   "cell_type": "markdown",
   "id": "798676c1",
   "metadata": {},
   "source": [
    "### Model tahminleri\n",
    "\n",
    "Yukarıda ki grafikten 12, 13 ve 14. indexte ki ağaçların en yüksek doğruluk değerlerini verdiğini görüyoruz. 12. indexte ki ağacı yeni model olarak aldık ve tahminlerde bulundurttuk."
   ]
  },
  {
   "cell_type": "code",
   "execution_count": 192,
   "id": "8e603573",
   "metadata": {
    "scrolled": true
   },
   "outputs": [
    {
     "data": {
      "text/html": [
       "<div>\n",
       "<style scoped>\n",
       "    .dataframe tbody tr th:only-of-type {\n",
       "        vertical-align: middle;\n",
       "    }\n",
       "\n",
       "    .dataframe tbody tr th {\n",
       "        vertical-align: top;\n",
       "    }\n",
       "\n",
       "    .dataframe thead th {\n",
       "        text-align: right;\n",
       "    }\n",
       "</style>\n",
       "<table border=\"1\" class=\"dataframe\">\n",
       "  <thead>\n",
       "    <tr style=\"text-align: right;\">\n",
       "      <th></th>\n",
       "      <th>Gercek Deger</th>\n",
       "      <th>Tahmin Degerleri</th>\n",
       "    </tr>\n",
       "  </thead>\n",
       "  <tbody>\n",
       "    <tr>\n",
       "      <th>0</th>\n",
       "      <td>0</td>\n",
       "      <td>0</td>\n",
       "    </tr>\n",
       "    <tr>\n",
       "      <th>1</th>\n",
       "      <td>0</td>\n",
       "      <td>0</td>\n",
       "    </tr>\n",
       "    <tr>\n",
       "      <th>2</th>\n",
       "      <td>0</td>\n",
       "      <td>0</td>\n",
       "    </tr>\n",
       "    <tr>\n",
       "      <th>3</th>\n",
       "      <td>0</td>\n",
       "      <td>0</td>\n",
       "    </tr>\n",
       "    <tr>\n",
       "      <th>4</th>\n",
       "      <td>0</td>\n",
       "      <td>0</td>\n",
       "    </tr>\n",
       "    <tr>\n",
       "      <th>5</th>\n",
       "      <td>0</td>\n",
       "      <td>0</td>\n",
       "    </tr>\n",
       "    <tr>\n",
       "      <th>6</th>\n",
       "      <td>0</td>\n",
       "      <td>0</td>\n",
       "    </tr>\n",
       "    <tr>\n",
       "      <th>7</th>\n",
       "      <td>1</td>\n",
       "      <td>1</td>\n",
       "    </tr>\n",
       "    <tr>\n",
       "      <th>8</th>\n",
       "      <td>0</td>\n",
       "      <td>0</td>\n",
       "    </tr>\n",
       "    <tr>\n",
       "      <th>9</th>\n",
       "      <td>0</td>\n",
       "      <td>1</td>\n",
       "    </tr>\n",
       "    <tr>\n",
       "      <th>10</th>\n",
       "      <td>0</td>\n",
       "      <td>0</td>\n",
       "    </tr>\n",
       "    <tr>\n",
       "      <th>11</th>\n",
       "      <td>0</td>\n",
       "      <td>0</td>\n",
       "    </tr>\n",
       "    <tr>\n",
       "      <th>12</th>\n",
       "      <td>0</td>\n",
       "      <td>0</td>\n",
       "    </tr>\n",
       "    <tr>\n",
       "      <th>13</th>\n",
       "      <td>0</td>\n",
       "      <td>0</td>\n",
       "    </tr>\n",
       "    <tr>\n",
       "      <th>14</th>\n",
       "      <td>0</td>\n",
       "      <td>0</td>\n",
       "    </tr>\n",
       "    <tr>\n",
       "      <th>15</th>\n",
       "      <td>0</td>\n",
       "      <td>1</td>\n",
       "    </tr>\n",
       "    <tr>\n",
       "      <th>16</th>\n",
       "      <td>0</td>\n",
       "      <td>0</td>\n",
       "    </tr>\n",
       "  </tbody>\n",
       "</table>\n",
       "</div>"
      ],
      "text/plain": [
       "    Gercek Deger  Tahmin Degerleri\n",
       "0              0                 0\n",
       "1              0                 0\n",
       "2              0                 0\n",
       "3              0                 0\n",
       "4              0                 0\n",
       "5              0                 0\n",
       "6              0                 0\n",
       "7              1                 1\n",
       "8              0                 0\n",
       "9              0                 1\n",
       "10             0                 0\n",
       "11             0                 0\n",
       "12             0                 0\n",
       "13             0                 0\n",
       "14             0                 0\n",
       "15             0                 1\n",
       "16             0                 0"
      ]
     },
     "execution_count": 192,
     "metadata": {},
     "output_type": "execute_result"
    }
   ],
   "source": [
    "yeniModel = clfs[12]\n",
    "\n",
    "tahminDegerleri = yeniModel.predict(x_test)\n",
    "\n",
    "tahminVeGercek = pd.DataFrame(y_test, columns= [\"Gercek Deger\"])\n",
    "tahminVeGercek[\"Tahmin Degerleri\"] = tahminDegerleri\n",
    "\n",
    "tahminVeGercek.head(17)"
   ]
  },
  {
   "cell_type": "code",
   "execution_count": 193,
   "id": "81cdf570",
   "metadata": {},
   "outputs": [
    {
     "name": "stdout",
     "output_type": "stream",
     "text": [
      "[[64  4]\n",
      " [ 2 30]]\n"
     ]
    }
   ],
   "source": [
    "# Hata matrisi olusturma\n",
    "# [61  4] ifadesi 64 doğru tahmin ve 4 yanlış tahminimiz olduğu anlamına gelir\n",
    "\n",
    "cm = confusion_matrix(y_test, tahminDegerleri)\n",
    "print(cm)"
   ]
  },
  {
   "cell_type": "code",
   "execution_count": 194,
   "id": "9346b77b",
   "metadata": {},
   "outputs": [
    {
     "name": "stdout",
     "output_type": "stream",
     "text": [
      "Train dataları ile modelin basari oranı: 0.9166666666666666\n",
      "Test dataları ile modelin basari oranı: 0.94\n"
     ]
    }
   ],
   "source": [
    "print(f\"Train dataları ile modelin basari oranı:\",yeniModel.score(x_train,y_train))\n",
    "print(f\"Test dataları ile modelin basari oranı:\",yeniModel.score(x_test,y_test))\n",
    "\n",
    "#Görüldüğü üzere train datanın başarısı düşmüş fakat test datanın başarısı artmıştır."
   ]
  },
  {
   "cell_type": "markdown",
   "id": "77aecfcb",
   "metadata": {},
   "source": [
    "# Oluşturulan 3 modelinde doğruluk oranları"
   ]
  },
  {
   "cell_type": "code",
   "execution_count": 195,
   "id": "a35498c3",
   "metadata": {},
   "outputs": [
    {
     "data": {
      "image/png": "[encoded data removed]",
      "text/plain": [
       "<Figure size 640x480 with 1 Axes>"
      ]
     },
     "metadata": {},
     "output_type": "display_data"
    }
   ],
   "source": [
    "modellerinDogrulukOranlari = [model1.score(x_test,y_test),model2.score(x_test,y_test),yeniModel.score(x_test,y_test)]\n",
    "\n",
    "plt.bar([\"Model1\",\"Model2\",\"Model3\"],modellerinDogrulukOranlari, width=0.5)\n",
    "plt.ylabel('Doğruluk Oranları')\n",
    "plt.title('Modellerin Doğruluk Oranları Histogramı')\n",
    "plt.axhline(y=modellerinDogrulukOranlari[0], color='red', linestyle='--', label='Model1 Doğruluk Oranı')\n",
    "plt.axhline(y=modellerinDogrulukOranlari[1], color='orange', linestyle='--', label='Model2 Doğruluk Oranı')\n",
    "plt.axhline(y=modellerinDogrulukOranlari[2], color='green', linestyle='--', label='Model3 Doğruluk Oranı')\n",
    "plt.yticks(np.arange(0,1,0.05))\n",
    "plt.ylim(bottom=0.7)\n",
    "plt.show()"
   ]
  },
  {
   "cell_type": "code",
   "execution_count": null,
   "id": "efa99df0",
   "metadata": {},
   "outputs": [],
   "source": []
  },
  {
   "cell_type": "code",
   "execution_count": null,
   "id": "8e3fb99c",
   "metadata": {},
   "outputs": [],
   "source": []
  },
  {
   "cell_type": "code",
   "execution_count": null,
   "id": "6295b1bb",
   "metadata": {},
   "outputs": [],
   "source": []
  }
 ],
 "metadata": {
  "kernelspec": {
   "display_name": "Python 3 (ipykernel)",
   "language": "python",
   "name": "python3"
  },
  "language_info": {
   "codemirror_mode": {
    "name": "ipython",
    "version": 3
   },
   "file_extension": ".py",
   "mimetype": "text/x-python",
   "name": "python",
   "nbconvert_exporter": "python",
   "pygments_lexer": "ipython3",
   "version": "3.8.17"
  }
 },
 "nbformat": 4,
 "nbformat_minor": 5
}

{
 "cells": [
  {
   "cell_type": "markdown",
   "id": "ec573ea3",
   "metadata": {},
   "source": [
    "# Lineer (Doğrusal) Regresyon\n",
    "\n",
    "Regresyon analizi aralarında sebep-sonuç ilişkisi bulunan iki veya daha fazla değişken arasindak ilişkiyi kullanarak o konu ile ilglili ***tahmin*** yapmak için kullanılır.\n",
    "\n",
    "### Regresyon Çeşitleri\n",
    "Çok çeşit lineer regresyon modelli bulunmaktadır. En fazla kullanılan modeller aşağıda ki gibidir\n",
    "\n",
    "1) *Basit Doğrusal* Regresyon\n",
    "2) *Çoklu Doğrusal* Regresyon\n",
    "3) *Polinom* Regresyon\n",
    "4) *Lojistik* Regresyon\n",
    "\n",
    "-------------------------"
   ]
  },
  {
   "cell_type": "markdown",
   "id": "8bc47fad",
   "metadata": {},
   "source": [
    "#### 1) Basit Doğrusal Regresyon\n",
    "Basit lineer regresyon bağımlı bir değişkene karşılık bağımsız bir değişkeni olan fonksiyonlardır. Bağımlı değişkene göre bağımsız değişkenin nasıl değiştiğini tahmin etmeye çalışırız. Değişkenler arasında yaklaşık olarak doğrusal bir ilişki olduğunu varsayarız.\n",
    "\n",
    "**Örneğin:** Evin metrekaresine göre fiyatını tahmin etme. Metrekare burada *bağımsız değişken (X)*, fiyat ise *bağımlı değişken (y)* \n",
    "\n",
    "#### Basit Doğrusal Regresyon Hipotezi\n",
    "\n",
    "y = a + bx\n",
    "\n",
    "Burada: \n",
    "- y, bağımlı değişken (tahmin etmeye çalıştığımız değişken)\n",
    "- x, bağımsız değişken (girdi değişkeni)\n",
    "- b, eğim (regresyon katsayısı), doğrunun eğimini temsil eder\n",
    "- a, kesme noktası (kesme terimi), doğrunun y-eksenini kestiği noktayı temsil eder\n",
    "\n",
    "![figur](./Img/LineerReg/BasitLineer.png)\n",
    "\n",
    "\n",
    "#### Basit Doğrusal Regresyon Hipotezi Bulma\n",
    "\n",
    "Basit doğrusal regresyon hipotezini bulmanın birden fazla yolu vardır. Bunlardan bir tanesi *matris yöntemi*, öteki ise *gradient descent* yöntemidir.\n",
    "\n",
    "Bu iki yöntem de ***Kare hata fonksiyonunu (MSE)*** minimize etmeye çalışır. MSE yerine maliyet fonksiyonu da denebilir.\n",
    "\n",
    "##### Nedir bu kare hata fonksiyonu ?\n",
    "\n",
    "Kareler hatası (Mean Squared Error, MSE) denklemi, gerçek ve tahmin edilen değerler arasındaki farkların karelerinin ortalaması olarak ifade edilir. Şu şekilde yazılır:\n",
    "\n",
    "MSE = (1/n) * Σ(yᵢ - ŷᵢ)²\n",
    "\n",
    "Burada:\n",
    "\n",
    "- n, veri noktalarının sayısı\n",
    "- yᵢ, gerçek değerler\n",
    "- ŷᵢ, modelin tahmin ettiği değerler\n",
    "\n",
    "Yani kareler hatası dediğimiz şey tahmin ettiğimiz değerden gerçek değeri çıkartıp karesini alma işlemidir. Kareler hatası ne kadar küçük olursa modelimiz o kadar doğru sonuçlar verir.\n",
    "\n",
    "##### Kare hata fonksiyonu minimize etme\n",
    "\n",
    "Kare hata fonksiyonumuzu minimize etmek için **regresyon katsayısı** ve **kesme noktası** değerlerini en doğru şekilde bulmamız gerekli. İşte bu kısımda karşımıza Matris yöntemi ve gradient descent yöntemi çıkıyor. İki yöntemle ilgili kaynaklar.\n",
    "\n",
    "\n",
    "[Matris Yöntemi](https://online.stat.psu.edu/stat462/node/132/)\n",
    "[Gradient descent](https://www.geeksforgeeks.org/gradient-descent-in-linear-regression/)\n",
    "\n",
    "Matris yöntemi ile direkt olarak katsayıları bulabiliriz *(yukarıda ki a ve b değerleri)*. Grandient Descent yöntemi ile maliyet fonksiyonunu en aza indiricek katsayıları *(yukarıda ki a ve b değerleri)* adım adım buluruz. \n",
    "\n",
    "------------------"
   ]
  },
  {
   "cell_type": "markdown",
   "id": "6b57df6a",
   "metadata": {},
   "source": [
    "# Örnek Çalışma"
   ]
  },
  {
   "cell_type": "code",
   "execution_count": 2,
   "id": "856980ca",
   "metadata": {},
   "outputs": [],
   "source": [
    "# Kütüphane Yükleme \n",
    "\n",
    "import pandas as pd\n",
    "import numpy as np\n",
    "import matplotlib.pyplot as plt\n",
    "\n"
   ]
  },
  {
   "cell_type": "code",
   "execution_count": 14,
   "id": "bbb73357",
   "metadata": {},
   "outputs": [
    {
     "data": {
      "text/html": [
       "<div>\n",
       "<style scoped>\n",
       "    .dataframe tbody tr th:only-of-type {\n",
       "        vertical-align: middle;\n",
       "    }\n",
       "\n",
       "    .dataframe tbody tr th {\n",
       "        vertical-align: top;\n",
       "    }\n",
       "\n",
       "    .dataframe thead th {\n",
       "        text-align: right;\n",
       "    }\n",
       "</style>\n",
       "<table border=\"1\" class=\"dataframe\">\n",
       "  <thead>\n",
       "    <tr style=\"text-align: right;\">\n",
       "      <th></th>\n",
       "      <th>Unnamed: 0</th>\n",
       "      <th>YearsExperience</th>\n",
       "      <th>Salary</th>\n",
       "    </tr>\n",
       "  </thead>\n",
       "  <tbody>\n",
       "    <tr>\n",
       "      <th>0</th>\n",
       "      <td>0</td>\n",
       "      <td>1.2</td>\n",
       "      <td>39344.0</td>\n",
       "    </tr>\n",
       "    <tr>\n",
       "      <th>1</th>\n",
       "      <td>1</td>\n",
       "      <td>1.4</td>\n",
       "      <td>46206.0</td>\n",
       "    </tr>\n",
       "    <tr>\n",
       "      <th>2</th>\n",
       "      <td>2</td>\n",
       "      <td>1.6</td>\n",
       "      <td>37732.0</td>\n",
       "    </tr>\n",
       "    <tr>\n",
       "      <th>3</th>\n",
       "      <td>3</td>\n",
       "      <td>2.1</td>\n",
       "      <td>43526.0</td>\n",
       "    </tr>\n",
       "    <tr>\n",
       "      <th>4</th>\n",
       "      <td>4</td>\n",
       "      <td>2.3</td>\n",
       "      <td>39892.0</td>\n",
       "    </tr>\n",
       "    <tr>\n",
       "      <th>5</th>\n",
       "      <td>5</td>\n",
       "      <td>3.0</td>\n",
       "      <td>56643.0</td>\n",
       "    </tr>\n",
       "    <tr>\n",
       "      <th>6</th>\n",
       "      <td>6</td>\n",
       "      <td>3.1</td>\n",
       "      <td>60151.0</td>\n",
       "    </tr>\n",
       "    <tr>\n",
       "      <th>7</th>\n",
       "      <td>7</td>\n",
       "      <td>3.3</td>\n",
       "      <td>54446.0</td>\n",
       "    </tr>\n",
       "    <tr>\n",
       "      <th>8</th>\n",
       "      <td>8</td>\n",
       "      <td>3.3</td>\n",
       "      <td>64446.0</td>\n",
       "    </tr>\n",
       "    <tr>\n",
       "      <th>9</th>\n",
       "      <td>9</td>\n",
       "      <td>3.8</td>\n",
       "      <td>57190.0</td>\n",
       "    </tr>\n",
       "  </tbody>\n",
       "</table>\n",
       "</div>"
      ],
      "text/plain": [
       "   Unnamed: 0  YearsExperience   Salary\n",
       "0           0              1.2  39344.0\n",
       "1           1              1.4  46206.0\n",
       "2           2              1.6  37732.0\n",
       "3           3              2.1  43526.0\n",
       "4           4              2.3  39892.0\n",
       "5           5              3.0  56643.0\n",
       "6           6              3.1  60151.0\n",
       "7           7              3.3  54446.0\n",
       "8           8              3.3  64446.0\n",
       "9           9              3.8  57190.0"
      ]
     },
     "execution_count": 14,
     "metadata": {},
     "output_type": "execute_result"
    }
   ],
   "source": [
    "#Veriyi setini yükleme\n",
    "\n",
    "dataFrame = pd.read_csv('Dataset/Salary_dataset.csv')\n",
    "\n",
    "dataFrame.head(10)"
   ]
  },
  {
   "cell_type": "code",
   "execution_count": 15,
   "id": "4c04f4c4",
   "metadata": {},
   "outputs": [
    {
     "data": {
      "text/html": [
       "<div>\n",
       "<style scoped>\n",
       "    .dataframe tbody tr th:only-of-type {\n",
       "        vertical-align: middle;\n",
       "    }\n",
       "\n",
       "    .dataframe tbody tr th {\n",
       "        vertical-align: top;\n",
       "    }\n",
       "\n",
       "    .dataframe thead th {\n",
       "        text-align: right;\n",
       "    }\n",
       "</style>\n",
       "<table border=\"1\" class=\"dataframe\">\n",
       "  <thead>\n",
       "    <tr style=\"text-align: right;\">\n",
       "      <th></th>\n",
       "      <th>Çalışma Süresi</th>\n",
       "      <th>Maaş</th>\n",
       "    </tr>\n",
       "  </thead>\n",
       "  <tbody>\n",
       "    <tr>\n",
       "      <th>0</th>\n",
       "      <td>1.2</td>\n",
       "      <td>39344.0</td>\n",
       "    </tr>\n",
       "    <tr>\n",
       "      <th>1</th>\n",
       "      <td>1.4</td>\n",
       "      <td>46206.0</td>\n",
       "    </tr>\n",
       "    <tr>\n",
       "      <th>2</th>\n",
       "      <td>1.6</td>\n",
       "      <td>37732.0</td>\n",
       "    </tr>\n",
       "    <tr>\n",
       "      <th>3</th>\n",
       "      <td>2.1</td>\n",
       "      <td>43526.0</td>\n",
       "    </tr>\n",
       "    <tr>\n",
       "      <th>4</th>\n",
       "      <td>2.3</td>\n",
       "      <td>39892.0</td>\n",
       "    </tr>\n",
       "    <tr>\n",
       "      <th>5</th>\n",
       "      <td>3.0</td>\n",
       "      <td>56643.0</td>\n",
       "    </tr>\n",
       "    <tr>\n",
       "      <th>6</th>\n",
       "      <td>3.1</td>\n",
       "      <td>60151.0</td>\n",
       "    </tr>\n",
       "    <tr>\n",
       "      <th>7</th>\n",
       "      <td>3.3</td>\n",
       "      <td>54446.0</td>\n",
       "    </tr>\n",
       "    <tr>\n",
       "      <th>8</th>\n",
       "      <td>3.3</td>\n",
       "      <td>64446.0</td>\n",
       "    </tr>\n",
       "    <tr>\n",
       "      <th>9</th>\n",
       "      <td>3.8</td>\n",
       "      <td>57190.0</td>\n",
       "    </tr>\n",
       "  </tbody>\n",
       "</table>\n",
       "</div>"
      ],
      "text/plain": [
       "   Çalışma Süresi     Maaş\n",
       "0             1.2  39344.0\n",
       "1             1.4  46206.0\n",
       "2             1.6  37732.0\n",
       "3             2.1  43526.0\n",
       "4             2.3  39892.0\n",
       "5             3.0  56643.0\n",
       "6             3.1  60151.0\n",
       "7             3.3  54446.0\n",
       "8             3.3  64446.0\n",
       "9             3.8  57190.0"
      ]
     },
     "execution_count": 15,
     "metadata": {},
     "output_type": "execute_result"
    }
   ],
   "source": [
    "#Veriyi düzenleme\n",
    "\n",
    "dataFrame.drop('Unnamed: 0', axis = 1, inplace = True)\n",
    "dataFrame.rename(columns = {'YearsExperience': 'Çalışma Süresi', 'Salary': 'Maaş'}, inplace = True)\n",
    "\n",
    "dataFrame.head(10)"
   ]
  },
  {
   "cell_type": "markdown",
   "id": "2d1620d5",
   "metadata": {},
   "source": [
    "Burada Maaş sütunu bağımlı değişken, Çalışma Süresi sütunu ise bağımsız değişkendir."
   ]
  },
  {
   "cell_type": "code",
   "execution_count": 36,
   "id": "497a091b",
   "metadata": {},
   "outputs": [],
   "source": [
    "X = dataFrame['Çalışma Süresi'].values\n",
    "y = dataFrame['Maaş'].values"
   ]
  },
  {
   "cell_type": "code",
   "execution_count": 37,
   "id": "1f863ece",
   "metadata": {},
   "outputs": [
    {
     "data": {
      "text/plain": [
       "Text(0, 0.5, 'Maaş')"
      ]
     },
     "execution_count": 37,
     "metadata": {},
     "output_type": "execute_result"
    },
    {
     "data": {
      "image/png": "[encoded data removed]",
      "text/plain": [
       "<Figure size 640x480 with 1 Axes>"
      ]
     },
     "metadata": {},
     "output_type": "display_data"
    }
   ],
   "source": [
    "# Maaş ile çalışma süresi arasında ki ilişki\n",
    "\n",
    "plt.scatter(X,y)\n",
    "plt.title('Çalışma Süresi - Maaş ilişkisi grafiği')\n",
    "plt.xlabel('Çalışma Süresi')\n",
    "plt.ylabel('Maaş')\n"
   ]
  },
  {
   "cell_type": "markdown",
   "id": "af921dbf",
   "metadata": {},
   "source": [
    "Çalışma süresi ile maaş arasında lineer bir ilişki görülüyor.\n",
    "\n",
    "## Eğitim ve Test Verisi ayrımı\n",
    "Amacımız, yeni verilere iyi genelleyen bir model oluşturmaktır. Test setimiz yeni veriler için bir temsilci görevi görür. Eğitim verileri ile doğrusal regresyon algoritmasını uygular ve modeli oluştururuz. Modelin başarısını denetleyebilmemiz için test verilerini kullanılır. Veri setini eğitim-test olarak bölme işi aşağıdaki gibidir:"
   ]
  },
  {
   "cell_type": "code",
   "execution_count": 38,
   "id": "b893ae87",
   "metadata": {},
   "outputs": [],
   "source": [
    "from sklearn.model_selection import train_test_split\n",
    "\n",
    "X_train, X_test, y_train, y_test = train_test_split(X, y, test_size=0.33, random_state= 1)\n"
   ]
  },
  {
   "cell_type": "markdown",
   "id": "274b7ba8",
   "metadata": {},
   "source": [
    "Yukarıdaki kod parçacığından, verilerin% 40'ının test verilerine gittiği ve geri kalanının eğitim setinde kaldığı sonucuna varabiliriz."
   ]
  },
  {
   "cell_type": "markdown",
   "id": "b828ac1f",
   "metadata": {},
   "source": [
    "## Modeli Oluşturma ve Eğitme"
   ]
  },
  {
   "cell_type": "code",
   "execution_count": 40,
   "id": "b77a2bb2",
   "metadata": {},
   "outputs": [
    {
     "data": {
      "text/html": [
       "<style>#sk-container-id-1 {color: black;background-color: white;}#sk-container-id-1 pre{padding: 0;}#sk-container-id-1 div.sk-toggleable {background-color: white;}#sk-container-id-1 label.sk-toggleable__label {cursor: pointer;display: block;width: 100%;margin-bottom: 0;padding: 0.3em;box-sizing: border-box;text-align: center;}#sk-container-id-1 label.sk-toggleable__label-arrow:before {content: \"▸\";float: left;margin-right: 0.25em;color: #696969;}#sk-container-id-1 label.sk-toggleable__label-arrow:hover:before {color: black;}#sk-container-id-1 div.sk-estimator:hover label.sk-toggleable__label-arrow:before {color: black;}#sk-container-id-1 div.sk-toggleable__content {max-height: 0;max-width: 0;overflow: hidden;text-align: left;background-color: #f0f8ff;}#sk-container-id-1 div.sk-toggleable__content pre {margin: 0.2em;color: black;border-radius: 0.25em;background-color: #f0f8ff;}#sk-container-id-1 input.sk-toggleable__control:checked~div.sk-toggleable__content {max-height: 200px;max-width: 100%;overflow: auto;}#sk-container-id-1 input.sk-toggleable__control:checked~label.sk-toggleable__label-arrow:before {content: \"▾\";}#sk-container-id-1 div.sk-estimator input.sk-toggleable__control:checked~label.sk-toggleable__label {background-color: #d4ebff;}#sk-container-id-1 div.sk-label input.sk-toggleable__control:checked~label.sk-toggleable__label {background-color: #d4ebff;}#sk-container-id-1 input.sk-hidden--visually {border: 0;clip: rect(1px 1px 1px 1px);clip: rect(1px, 1px, 1px, 1px);height: 1px;margin: -1px;overflow: hidden;padding: 0;position: absolute;width: 1px;}#sk-container-id-1 div.sk-estimator {font-family: monospace;background-color: #f0f8ff;border: 1px dotted black;border-radius: 0.25em;box-sizing: border-box;margin-bottom: 0.5em;}#sk-container-id-1 div.sk-estimator:hover {background-color: #d4ebff;}#sk-container-id-1 div.sk-parallel-item::after {content: \"\";width: 100%;border-bottom: 1px solid gray;flex-grow: 1;}#sk-container-id-1 div.sk-label:hover label.sk-toggleable__label {background-color: #d4ebff;}#sk-container-id-1 div.sk-serial::before {content: \"\";position: absolute;border-left: 1px solid gray;box-sizing: border-box;top: 0;bottom: 0;left: 50%;z-index: 0;}#sk-container-id-1 div.sk-serial {display: flex;flex-direction: column;align-items: center;background-color: white;padding-right: 0.2em;padding-left: 0.2em;position: relative;}#sk-container-id-1 div.sk-item {position: relative;z-index: 1;}#sk-container-id-1 div.sk-parallel {display: flex;align-items: stretch;justify-content: center;background-color: white;position: relative;}#sk-container-id-1 div.sk-item::before, #sk-container-id-1 div.sk-parallel-item::before {content: \"\";position: absolute;border-left: 1px solid gray;box-sizing: border-box;top: 0;bottom: 0;left: 50%;z-index: -1;}#sk-container-id-1 div.sk-parallel-item {display: flex;flex-direction: column;z-index: 1;position: relative;background-color: white;}#sk-container-id-1 div.sk-parallel-item:first-child::after {align-self: flex-end;width: 50%;}#sk-container-id-1 div.sk-parallel-item:last-child::after {align-self: flex-start;width: 50%;}#sk-container-id-1 div.sk-parallel-item:only-child::after {width: 0;}#sk-container-id-1 div.sk-dashed-wrapped {border: 1px dashed gray;margin: 0 0.4em 0.5em 0.4em;box-sizing: border-box;padding-bottom: 0.4em;background-color: white;}#sk-container-id-1 div.sk-label label {font-family: monospace;font-weight: bold;display: inline-block;line-height: 1.2em;}#sk-container-id-1 div.sk-label-container {text-align: center;}#sk-container-id-1 div.sk-container {/* jupyter's `normalize.less` sets `[hidden] { display: none; }` but bootstrap.min.css set `[hidden] { display: none !important; }` so we also need the `!important` here to be able to override the default hidden behavior on the sphinx rendered scikit-learn.org. See: https://github.com/scikit-learn/scikit-learn/issues/21755 */display: inline-block !important;position: relative;}#sk-container-id-1 div.sk-text-repr-fallback {display: none;}</style><div id=\"sk-container-id-1\" class=\"sk-top-container\"><div class=\"sk-text-repr-fallback\"><pre>LinearRegression()</pre><b>In a Jupyter environment, please rerun this cell to show the HTML representation or trust the notebook. <br />On GitHub, the HTML representation is unable to render, please try loading this page with nbviewer.org.</b></div><div class=\"sk-container\" hidden><div class=\"sk-item\"><div class=\"sk-estimator sk-toggleable\"><input class=\"sk-toggleable__control sk-hidden--visually\" id=\"sk-estimator-id-1\" type=\"checkbox\" checked><label for=\"sk-estimator-id-1\" class=\"sk-toggleable__label sk-toggleable__label-arrow\">LinearRegression</label><div class=\"sk-toggleable__content\"><pre>LinearRegression()</pre></div></div></div></div></div>"
      ],
      "text/plain": [
       "LinearRegression()"
      ]
     },
     "execution_count": 40,
     "metadata": {},
     "output_type": "execute_result"
    }
   ],
   "source": [
    "from sklearn.linear_model import LinearRegression\n",
    "lin_reg = LinearRegression()\n",
    "lin_reg.fit(X_train.reshape(-1,1),y_train)"
   ]
  },
  {
   "cell_type": "markdown",
   "id": "3521e512",
   "metadata": {},
   "source": [
    "## Modelin Tahminleri\n",
    "\n",
    "Test setini modele vererek tahminleri alıcaz ve ne kadar başarılı olduğunu görücez !"
   ]
  },
  {
   "cell_type": "code",
   "execution_count": 44,
   "id": "8398289c",
   "metadata": {},
   "outputs": [],
   "source": [
    "y_pred = lin_reg.predict(X_test.reshape(-1,1))"
   ]
  },
  {
   "cell_type": "markdown",
   "id": "4a0d8b06",
   "metadata": {},
   "source": [
    "Modelin tahminlerini görselleştirme ve Regresyon çizgisi"
   ]
  },
  {
   "cell_type": "code",
   "execution_count": 50,
   "id": "f46940a7",
   "metadata": {
    "scrolled": false
   },
   "outputs": [
    {
     "data": {
      "text/plain": [
       "<matplotlib.legend.Legend at 0x1d98ee48160>"
      ]
     },
     "execution_count": 50,
     "metadata": {},
     "output_type": "execute_result"
    },
    {
     "data": {
      "image/png": "[encoded data removed]",
      "text/plain": [
       "<Figure size 640x480 with 1 Axes>"
      ]
     },
     "metadata": {},
     "output_type": "display_data"
    }
   ],
   "source": [
    "plt.scatter(X,y)\n",
    "plt.plot(X_test,y_pred, color = 'Red', label = 'Regresyon Çizigisi')\n",
    "plt.legend()"
   ]
  },
  {
   "cell_type": "markdown",
   "id": "90af6da3",
   "metadata": {},
   "source": [
    "-------------------\n",
    "Regresyon denklemi katsayıları ve Regresyon Denklemi"
   ]
  },
  {
   "cell_type": "code",
   "execution_count": 42,
   "id": "7078b768",
   "metadata": {},
   "outputs": [
    {
     "name": "stdout",
     "output_type": "stream",
     "text": [
      "Eğim(b):9158.14\n",
      "Kesme Noktası(a):25222.43\n",
      "Regresyon Eğirisi: y = 25222.43 + 9158.14x \n"
     ]
    }
   ],
   "source": [
    "print(f\"Eğim(b):{lin_reg.coef_[0]:.2f}\")\n",
    "print(f\"Kesme Noktası(a):{lin_reg.intercept_:.2f}\")\n",
    "print(f\"Regresyon Eğirisi: y = {lin_reg.intercept_:.2f} + {lin_reg.coef_[0]:.2f}x \")"
   ]
  },
  {
   "cell_type": "code",
   "execution_count": 41,
   "id": "dcb97494",
   "metadata": {},
   "outputs": [
    {
     "name": "stdout",
     "output_type": "stream",
     "text": [
      "R-Kare hatası: 0.9240850478446321\n",
      "MAE: 5049.818093659744\n",
      "MSE: 37496296.6187984\n"
     ]
    }
   ],
   "source": [
    "from sklearn.metrics import mean_absolute_error, mean_squared_error, r2_score\n",
    "\n",
    "print(f\"R-Kare hatası: {r2_score(y_test,y_pred)}\")\n",
    "print(f\"MAE: {mean_absolute_error(y_test, y_pred)}\")\n",
    "print(f\"MSE: {mean_squared_error(y_test, y_pred)}\")\n"
   ]
  },
  {
   "cell_type": "code",
   "execution_count": null,
   "id": "c9600d82",
   "metadata": {},
   "outputs": [],
   "source": []
  },
  {
   "cell_type": "code",
   "execution_count": null,
   "id": "4cfe7d3d",
   "metadata": {},
   "outputs": [],
   "source": []
  },
  {
   "cell_type": "code",
   "execution_count": null,
   "id": "47ad0401",
   "metadata": {},
   "outputs": [],
   "source": []
  },
  {
   "cell_type": "markdown",
   "id": "c13e18d0",
   "metadata": {},
   "source": [
    "## Çoklu Lineer Regresyon\n",
    "\n",
    "Çoklu doğrusal regresyon (multiple linear regression), bir bağımlı değişkenin (sonuç değişkeni) birden fazla bağımsız değişkene (özellik veya öznitelik) bağlı olduğu bir regresyon analizi türüdür. Basit doğrusal regresyonda yalnızca bir bağımsız değişken kullanılırken, çoklu doğrusal regresyonda birden fazla bağımsız değişken kullanılır.\n",
    "\n",
    "**Örneğin:** Bir çocuğun cinsiyetine yaşına ve kilosuna göre boyunu tahmin etmeye çalışmak.\n",
    "\n",
    "\n",
    "\n",
    "#### Çoklu Lineer Regresyon Hipotezi\n",
    "\n",
    "y = a + bx_1 + cx_2 + .... + nx_n\n",
    "\n",
    "\n",
    "Burada: \n",
    "- y, bağımlı değişken (tahmin etmeye çalıştığımız değişken)\n",
    "- x_n, bağımsız değişkenler\n",
    "- (b, c, n ..), eğim (regresyon katsayısı), doğrunun eğimini temsil eder\n",
    "- a, kesme noktası (kesme terimi), doğrunun y-eksenini kestiği noktayı temsil eder\n",
    "\n",
    "![figur](./Img/LineerReg/MultipleLineer.jpg)\n",
    "\n",
    "\n",
    "#### Çoklu Lineer Regresyon Hipotezi Bulma\n",
    "Basit lineer regresyon modelinde olduğu gibi, çoklu lineer regresyon modelinide bulmak için *matris yöntemi* veya *gradient descent* yöntemi kullanılabilir.\n",
    "\n",
    "----------------\n"
   ]
  },
  {
   "cell_type": "markdown",
   "id": "cadd0161",
   "metadata": {},
   "source": [
    "# Örnek Çalışma"
   ]
  },
  {
   "cell_type": "code",
   "execution_count": 34,
   "id": "3543093e",
   "metadata": {},
   "outputs": [],
   "source": [
    "# Kütüphane Yükleme \n",
    "\n",
    "import pandas as pd\n",
    "import numpy as np\n",
    "import matplotlib.pyplot as plt"
   ]
  },
  {
   "cell_type": "code",
   "execution_count": 35,
   "id": "d5ff1885",
   "metadata": {},
   "outputs": [],
   "source": [
    "dataset = pd.read_csv('.\\Dataset\\Sirketler_Kar_Bilgileri.csv')"
   ]
  },
  {
   "cell_type": "code",
   "execution_count": 36,
   "id": "78c338b5",
   "metadata": {},
   "outputs": [
    {
     "data": {
      "text/html": [
       "<div>\n",
       "<style scoped>\n",
       "    .dataframe tbody tr th:only-of-type {\n",
       "        vertical-align: middle;\n",
       "    }\n",
       "\n",
       "    .dataframe tbody tr th {\n",
       "        vertical-align: top;\n",
       "    }\n",
       "\n",
       "    .dataframe thead th {\n",
       "        text-align: right;\n",
       "    }\n",
       "</style>\n",
       "<table border=\"1\" class=\"dataframe\">\n",
       "  <thead>\n",
       "    <tr style=\"text-align: right;\">\n",
       "      <th></th>\n",
       "      <th>ArgeHarcamasi</th>\n",
       "      <th>YonetimGiderleri</th>\n",
       "      <th>PazarlamaHarcamasi</th>\n",
       "      <th>Sehir</th>\n",
       "      <th>Kar</th>\n",
       "    </tr>\n",
       "  </thead>\n",
       "  <tbody>\n",
       "    <tr>\n",
       "      <th>0</th>\n",
       "      <td>165349.20</td>\n",
       "      <td>136897.80</td>\n",
       "      <td>471784.10</td>\n",
       "      <td>Istanbul</td>\n",
       "      <td>192261.83</td>\n",
       "    </tr>\n",
       "    <tr>\n",
       "      <th>1</th>\n",
       "      <td>162597.70</td>\n",
       "      <td>151377.59</td>\n",
       "      <td>443898.53</td>\n",
       "      <td>Ankara</td>\n",
       "      <td>191792.06</td>\n",
       "    </tr>\n",
       "    <tr>\n",
       "      <th>2</th>\n",
       "      <td>153441.51</td>\n",
       "      <td>101145.55</td>\n",
       "      <td>407934.54</td>\n",
       "      <td>Kocaeli</td>\n",
       "      <td>191050.39</td>\n",
       "    </tr>\n",
       "    <tr>\n",
       "      <th>3</th>\n",
       "      <td>144372.41</td>\n",
       "      <td>118671.85</td>\n",
       "      <td>383199.62</td>\n",
       "      <td>Istanbul</td>\n",
       "      <td>182901.99</td>\n",
       "    </tr>\n",
       "    <tr>\n",
       "      <th>4</th>\n",
       "      <td>142107.34</td>\n",
       "      <td>91391.77</td>\n",
       "      <td>366168.42</td>\n",
       "      <td>Kocaeli</td>\n",
       "      <td>166187.94</td>\n",
       "    </tr>\n",
       "    <tr>\n",
       "      <th>5</th>\n",
       "      <td>131876.90</td>\n",
       "      <td>99814.71</td>\n",
       "      <td>362861.36</td>\n",
       "      <td>Istanbul</td>\n",
       "      <td>156991.12</td>\n",
       "    </tr>\n",
       "    <tr>\n",
       "      <th>6</th>\n",
       "      <td>134615.46</td>\n",
       "      <td>147198.87</td>\n",
       "      <td>127716.82</td>\n",
       "      <td>Ankara</td>\n",
       "      <td>156122.51</td>\n",
       "    </tr>\n",
       "    <tr>\n",
       "      <th>7</th>\n",
       "      <td>130298.13</td>\n",
       "      <td>145530.06</td>\n",
       "      <td>323876.68</td>\n",
       "      <td>Kocaeli</td>\n",
       "      <td>155752.60</td>\n",
       "    </tr>\n",
       "    <tr>\n",
       "      <th>8</th>\n",
       "      <td>120542.52</td>\n",
       "      <td>148718.95</td>\n",
       "      <td>311613.29</td>\n",
       "      <td>Istanbul</td>\n",
       "      <td>152211.77</td>\n",
       "    </tr>\n",
       "    <tr>\n",
       "      <th>9</th>\n",
       "      <td>123334.88</td>\n",
       "      <td>108679.17</td>\n",
       "      <td>304981.62</td>\n",
       "      <td>Ankara</td>\n",
       "      <td>149759.96</td>\n",
       "    </tr>\n",
       "  </tbody>\n",
       "</table>\n",
       "</div>"
      ],
      "text/plain": [
       "   ArgeHarcamasi  YonetimGiderleri  PazarlamaHarcamasi     Sehir        Kar\n",
       "0      165349.20         136897.80           471784.10  Istanbul  192261.83\n",
       "1      162597.70         151377.59           443898.53    Ankara  191792.06\n",
       "2      153441.51         101145.55           407934.54   Kocaeli  191050.39\n",
       "3      144372.41         118671.85           383199.62  Istanbul  182901.99\n",
       "4      142107.34          91391.77           366168.42   Kocaeli  166187.94\n",
       "5      131876.90          99814.71           362861.36  Istanbul  156991.12\n",
       "6      134615.46         147198.87           127716.82    Ankara  156122.51\n",
       "7      130298.13         145530.06           323876.68   Kocaeli  155752.60\n",
       "8      120542.52         148718.95           311613.29  Istanbul  152211.77\n",
       "9      123334.88         108679.17           304981.62    Ankara  149759.96"
      ]
     },
     "execution_count": 36,
     "metadata": {},
     "output_type": "execute_result"
    }
   ],
   "source": [
    "dataset.head(10)"
   ]
  },
  {
   "cell_type": "markdown",
   "id": "b4ea69c7",
   "metadata": {},
   "source": [
    "#### Veriyi düzenleme\n",
    "\n",
    "Şehir kategorik bir değerdir. Algoritmanın kullanabilmesi için bu kategorik değerleri Numeric değerlere çevirmemeiz gerekli.\n",
    "\n",
    "Numeric değerlere çevirdikten sonra kukla değişkenler oluşturmamız gerekli. Kukla değişken bir değişkeni ifade eden başka bir değişken olarak ifade edilebilir. Fakat aynı şeyi ifade eden kolonların aynı anda kullanılması risklidir. Çünkü her kolonun algoritma üzerinde bir etkisi vardır.\n",
    "\n",
    "**Örneğin:** 1 veriyi ifade eden 100 kolon varsa bu 100 kolon geriye kalan kolonların etkisini azaltmış olur. Her kolon sonucu kendi yönünde çekmeye çalışır. 1 tane veriyi 100 kolonla ifade edersek algoritmamız sadece o veriye duyarlı hale gelebilir. Bu duruma ***Kukla değişken tuzağı*** denir.\n",
    "\n",
    "\n",
    "[Dummy Variable](https://tr.wikipedia.org/wiki/Kukla_de%C4%9Fi%C5%9Fken_tuza%C4%9F%C4%B1)"
   ]
  },
  {
   "cell_type": "code",
   "execution_count": 37,
   "id": "0ab1a792",
   "metadata": {},
   "outputs": [],
   "source": [
    "#Kategorik olan şehir verisini numeric yapma\n",
    "\n",
    "from sklearn.preprocessing import LabelEncoder, OneHotEncoder\n",
    "\n",
    "onehotencoder = OneHotEncoder()\n",
    "encoded_features = onehotencoder.fit_transform(dataset[['Sehir']]).toarray()\n",
    "\n",
    "\n",
    "dataset = pd.concat([pd.DataFrame(encoded_features),dataset.drop('Sehir', axis = 1)], axis = 1)"
   ]
  },
  {
   "cell_type": "markdown",
   "id": "2236c9c5",
   "metadata": {},
   "source": [
    "- M1=0 M2=1 M3=0 - İstanbul\n",
    "- M1=1 M2=0 M3=0 - Ankara\n",
    "- M1=0 M2=0 M3=1 - Kocaeli\n",
    "- M1=0 M2=1 M3=0 - Istanbul"
   ]
  },
  {
   "cell_type": "code",
   "execution_count": 38,
   "id": "b2b74038",
   "metadata": {},
   "outputs": [
    {
     "data": {
      "text/html": [
       "<div>\n",
       "<style scoped>\n",
       "    .dataframe tbody tr th:only-of-type {\n",
       "        vertical-align: middle;\n",
       "    }\n",
       "\n",
       "    .dataframe tbody tr th {\n",
       "        vertical-align: top;\n",
       "    }\n",
       "\n",
       "    .dataframe thead th {\n",
       "        text-align: right;\n",
       "    }\n",
       "</style>\n",
       "<table border=\"1\" class=\"dataframe\">\n",
       "  <thead>\n",
       "    <tr style=\"text-align: right;\">\n",
       "      <th></th>\n",
       "      <th>0</th>\n",
       "      <th>1</th>\n",
       "      <th>2</th>\n",
       "      <th>ArgeHarcamasi</th>\n",
       "      <th>YonetimGiderleri</th>\n",
       "      <th>PazarlamaHarcamasi</th>\n",
       "      <th>Kar</th>\n",
       "    </tr>\n",
       "  </thead>\n",
       "  <tbody>\n",
       "    <tr>\n",
       "      <th>0</th>\n",
       "      <td>0.0</td>\n",
       "      <td>1.0</td>\n",
       "      <td>0.0</td>\n",
       "      <td>165349.20</td>\n",
       "      <td>136897.80</td>\n",
       "      <td>471784.10</td>\n",
       "      <td>192261.83</td>\n",
       "    </tr>\n",
       "    <tr>\n",
       "      <th>1</th>\n",
       "      <td>1.0</td>\n",
       "      <td>0.0</td>\n",
       "      <td>0.0</td>\n",
       "      <td>162597.70</td>\n",
       "      <td>151377.59</td>\n",
       "      <td>443898.53</td>\n",
       "      <td>191792.06</td>\n",
       "    </tr>\n",
       "    <tr>\n",
       "      <th>2</th>\n",
       "      <td>0.0</td>\n",
       "      <td>0.0</td>\n",
       "      <td>1.0</td>\n",
       "      <td>153441.51</td>\n",
       "      <td>101145.55</td>\n",
       "      <td>407934.54</td>\n",
       "      <td>191050.39</td>\n",
       "    </tr>\n",
       "    <tr>\n",
       "      <th>3</th>\n",
       "      <td>0.0</td>\n",
       "      <td>1.0</td>\n",
       "      <td>0.0</td>\n",
       "      <td>144372.41</td>\n",
       "      <td>118671.85</td>\n",
       "      <td>383199.62</td>\n",
       "      <td>182901.99</td>\n",
       "    </tr>\n",
       "    <tr>\n",
       "      <th>4</th>\n",
       "      <td>0.0</td>\n",
       "      <td>0.0</td>\n",
       "      <td>1.0</td>\n",
       "      <td>142107.34</td>\n",
       "      <td>91391.77</td>\n",
       "      <td>366168.42</td>\n",
       "      <td>166187.94</td>\n",
       "    </tr>\n",
       "  </tbody>\n",
       "</table>\n",
       "</div>"
      ],
      "text/plain": [
       "     0    1    2  ArgeHarcamasi  YonetimGiderleri  PazarlamaHarcamasi  \\\n",
       "0  0.0  1.0  0.0      165349.20         136897.80           471784.10   \n",
       "1  1.0  0.0  0.0      162597.70         151377.59           443898.53   \n",
       "2  0.0  0.0  1.0      153441.51         101145.55           407934.54   \n",
       "3  0.0  1.0  0.0      144372.41         118671.85           383199.62   \n",
       "4  0.0  0.0  1.0      142107.34          91391.77           366168.42   \n",
       "\n",
       "         Kar  \n",
       "0  192261.83  \n",
       "1  191792.06  \n",
       "2  191050.39  \n",
       "3  182901.99  \n",
       "4  166187.94  "
      ]
     },
     "execution_count": 38,
     "metadata": {},
     "output_type": "execute_result"
    }
   ],
   "source": [
    "dataset.head(5)"
   ]
  },
  {
   "cell_type": "code",
   "execution_count": 39,
   "id": "c62dcbb2",
   "metadata": {},
   "outputs": [
    {
     "data": {
      "text/html": [
       "<div>\n",
       "<style scoped>\n",
       "    .dataframe tbody tr th:only-of-type {\n",
       "        vertical-align: middle;\n",
       "    }\n",
       "\n",
       "    .dataframe tbody tr th {\n",
       "        vertical-align: top;\n",
       "    }\n",
       "\n",
       "    .dataframe thead th {\n",
       "        text-align: right;\n",
       "    }\n",
       "</style>\n",
       "<table border=\"1\" class=\"dataframe\">\n",
       "  <thead>\n",
       "    <tr style=\"text-align: right;\">\n",
       "      <th></th>\n",
       "      <th>0</th>\n",
       "      <th>1</th>\n",
       "      <th>2</th>\n",
       "      <th>3</th>\n",
       "      <th>4</th>\n",
       "      <th>5</th>\n",
       "    </tr>\n",
       "  </thead>\n",
       "  <tbody>\n",
       "    <tr>\n",
       "      <th>0</th>\n",
       "      <td>0.0</td>\n",
       "      <td>1.0</td>\n",
       "      <td>0.0</td>\n",
       "      <td>165349.20</td>\n",
       "      <td>136897.80</td>\n",
       "      <td>471784.10</td>\n",
       "    </tr>\n",
       "    <tr>\n",
       "      <th>1</th>\n",
       "      <td>1.0</td>\n",
       "      <td>0.0</td>\n",
       "      <td>0.0</td>\n",
       "      <td>162597.70</td>\n",
       "      <td>151377.59</td>\n",
       "      <td>443898.53</td>\n",
       "    </tr>\n",
       "    <tr>\n",
       "      <th>2</th>\n",
       "      <td>0.0</td>\n",
       "      <td>0.0</td>\n",
       "      <td>1.0</td>\n",
       "      <td>153441.51</td>\n",
       "      <td>101145.55</td>\n",
       "      <td>407934.54</td>\n",
       "    </tr>\n",
       "    <tr>\n",
       "      <th>3</th>\n",
       "      <td>0.0</td>\n",
       "      <td>1.0</td>\n",
       "      <td>0.0</td>\n",
       "      <td>144372.41</td>\n",
       "      <td>118671.85</td>\n",
       "      <td>383199.62</td>\n",
       "    </tr>\n",
       "    <tr>\n",
       "      <th>4</th>\n",
       "      <td>0.0</td>\n",
       "      <td>0.0</td>\n",
       "      <td>1.0</td>\n",
       "      <td>142107.34</td>\n",
       "      <td>91391.77</td>\n",
       "      <td>366168.42</td>\n",
       "    </tr>\n",
       "  </tbody>\n",
       "</table>\n",
       "</div>"
      ],
      "text/plain": [
       "     0    1    2          3          4          5\n",
       "0  0.0  1.0  0.0  165349.20  136897.80  471784.10\n",
       "1  1.0  0.0  0.0  162597.70  151377.59  443898.53\n",
       "2  0.0  0.0  1.0  153441.51  101145.55  407934.54\n",
       "3  0.0  1.0  0.0  144372.41  118671.85  383199.62\n",
       "4  0.0  0.0  1.0  142107.34   91391.77  366168.42"
      ]
     },
     "execution_count": 39,
     "metadata": {},
     "output_type": "execute_result"
    }
   ],
   "source": [
    "# Veriyi ayırma\n",
    "\n",
    "X = dataset.iloc[:,:-1].values\n",
    "y = dataset.iloc[:,6].values\n",
    "pd.DataFrame(X).head(5)"
   ]
  },
  {
   "cell_type": "markdown",
   "id": "5da3df81",
   "metadata": {},
   "source": [
    "-------------------------\n",
    "\n",
    "İlk kolonu yani Ankara olma durumunuda düşürücez. Çünkü diğer 2 sütuna göre Ankara olup olmadığını anlayabiliriz. Örneğin Ankara olursa diğer 2 sütun 0 olucak veya diğer 2 sütundan herhangi bir tanesi 1 olursa Ankara olmadığını anlamış olucaz.\n",
    "\n",
    "------------------------"
   ]
  },
  {
   "cell_type": "code",
   "execution_count": 40,
   "id": "ca2ac88f",
   "metadata": {
    "scrolled": false
   },
   "outputs": [
    {
     "data": {
      "text/html": [
       "<div>\n",
       "<style scoped>\n",
       "    .dataframe tbody tr th:only-of-type {\n",
       "        vertical-align: middle;\n",
       "    }\n",
       "\n",
       "    .dataframe tbody tr th {\n",
       "        vertical-align: top;\n",
       "    }\n",
       "\n",
       "    .dataframe thead th {\n",
       "        text-align: right;\n",
       "    }\n",
       "</style>\n",
       "<table border=\"1\" class=\"dataframe\">\n",
       "  <thead>\n",
       "    <tr style=\"text-align: right;\">\n",
       "      <th></th>\n",
       "      <th>0</th>\n",
       "      <th>1</th>\n",
       "      <th>2</th>\n",
       "      <th>3</th>\n",
       "      <th>4</th>\n",
       "    </tr>\n",
       "  </thead>\n",
       "  <tbody>\n",
       "    <tr>\n",
       "      <th>0</th>\n",
       "      <td>1.0</td>\n",
       "      <td>0.0</td>\n",
       "      <td>165349.20</td>\n",
       "      <td>136897.80</td>\n",
       "      <td>471784.10</td>\n",
       "    </tr>\n",
       "    <tr>\n",
       "      <th>1</th>\n",
       "      <td>0.0</td>\n",
       "      <td>0.0</td>\n",
       "      <td>162597.70</td>\n",
       "      <td>151377.59</td>\n",
       "      <td>443898.53</td>\n",
       "    </tr>\n",
       "    <tr>\n",
       "      <th>2</th>\n",
       "      <td>0.0</td>\n",
       "      <td>1.0</td>\n",
       "      <td>153441.51</td>\n",
       "      <td>101145.55</td>\n",
       "      <td>407934.54</td>\n",
       "    </tr>\n",
       "    <tr>\n",
       "      <th>3</th>\n",
       "      <td>1.0</td>\n",
       "      <td>0.0</td>\n",
       "      <td>144372.41</td>\n",
       "      <td>118671.85</td>\n",
       "      <td>383199.62</td>\n",
       "    </tr>\n",
       "    <tr>\n",
       "      <th>4</th>\n",
       "      <td>0.0</td>\n",
       "      <td>1.0</td>\n",
       "      <td>142107.34</td>\n",
       "      <td>91391.77</td>\n",
       "      <td>366168.42</td>\n",
       "    </tr>\n",
       "  </tbody>\n",
       "</table>\n",
       "</div>"
      ],
      "text/plain": [
       "     0    1          2          3          4\n",
       "0  1.0  0.0  165349.20  136897.80  471784.10\n",
       "1  0.0  0.0  162597.70  151377.59  443898.53\n",
       "2  0.0  1.0  153441.51  101145.55  407934.54\n",
       "3  1.0  0.0  144372.41  118671.85  383199.62\n",
       "4  0.0  1.0  142107.34   91391.77  366168.42"
      ]
     },
     "execution_count": 40,
     "metadata": {},
     "output_type": "execute_result"
    }
   ],
   "source": [
    "X = X[:, 1:]\n",
    "pd.DataFrame(X).head(5)"
   ]
  },
  {
   "cell_type": "markdown",
   "id": "75a5a2d3",
   "metadata": {},
   "source": [
    "## Eğitim ve Test Verisi ayrımı"
   ]
  },
  {
   "cell_type": "code",
   "execution_count": 42,
   "id": "c4ca2d9b",
   "metadata": {},
   "outputs": [],
   "source": [
    "from sklearn.model_selection import train_test_split\n",
    "\n",
    "X_train, X_test, y_train, y_test = train_test_split(X, y, test_size = 0.2, random_state = 0)"
   ]
  },
  {
   "cell_type": "markdown",
   "id": "f5307546",
   "metadata": {},
   "source": [
    "## Çoklu lineer model oluşturma ve eğitme"
   ]
  },
  {
   "cell_type": "code",
   "execution_count": 52,
   "id": "33836e90",
   "metadata": {
    "scrolled": true
   },
   "outputs": [
    {
     "data": {
      "text/html": [
       "<style>#sk-container-id-5 {color: black;background-color: white;}#sk-container-id-5 pre{padding: 0;}#sk-container-id-5 div.sk-toggleable {background-color: white;}#sk-container-id-5 label.sk-toggleable__label {cursor: pointer;display: block;width: 100%;margin-bottom: 0;padding: 0.3em;box-sizing: border-box;text-align: center;}#sk-container-id-5 label.sk-toggleable__label-arrow:before {content: \"▸\";float: left;margin-right: 0.25em;color: #696969;}#sk-container-id-5 label.sk-toggleable__label-arrow:hover:before {color: black;}#sk-container-id-5 div.sk-estimator:hover label.sk-toggleable__label-arrow:before {color: black;}#sk-container-id-5 div.sk-toggleable__content {max-height: 0;max-width: 0;overflow: hidden;text-align: left;background-color: #f0f8ff;}#sk-container-id-5 div.sk-toggleable__content pre {margin: 0.2em;color: black;border-radius: 0.25em;background-color: #f0f8ff;}#sk-container-id-5 input.sk-toggleable__control:checked~div.sk-toggleable__content {max-height: 200px;max-width: 100%;overflow: auto;}#sk-container-id-5 input.sk-toggleable__control:checked~label.sk-toggleable__label-arrow:before {content: \"▾\";}#sk-container-id-5 div.sk-estimator input.sk-toggleable__control:checked~label.sk-toggleable__label {background-color: #d4ebff;}#sk-container-id-5 div.sk-label input.sk-toggleable__control:checked~label.sk-toggleable__label {background-color: #d4ebff;}#sk-container-id-5 input.sk-hidden--visually {border: 0;clip: rect(1px 1px 1px 1px);clip: rect(1px, 1px, 1px, 1px);height: 1px;margin: -1px;overflow: hidden;padding: 0;position: absolute;width: 1px;}#sk-container-id-5 div.sk-estimator {font-family: monospace;background-color: #f0f8ff;border: 1px dotted black;border-radius: 0.25em;box-sizing: border-box;margin-bottom: 0.5em;}#sk-container-id-5 div.sk-estimator:hover {background-color: #d4ebff;}#sk-container-id-5 div.sk-parallel-item::after {content: \"\";width: 100%;border-bottom: 1px solid gray;flex-grow: 1;}#sk-container-id-5 div.sk-label:hover label.sk-toggleable__label {background-color: #d4ebff;}#sk-container-id-5 div.sk-serial::before {content: \"\";position: absolute;border-left: 1px solid gray;box-sizing: border-box;top: 0;bottom: 0;left: 50%;z-index: 0;}#sk-container-id-5 div.sk-serial {display: flex;flex-direction: column;align-items: center;background-color: white;padding-right: 0.2em;padding-left: 0.2em;position: relative;}#sk-container-id-5 div.sk-item {position: relative;z-index: 1;}#sk-container-id-5 div.sk-parallel {display: flex;align-items: stretch;justify-content: center;background-color: white;position: relative;}#sk-container-id-5 div.sk-item::before, #sk-container-id-5 div.sk-parallel-item::before {content: \"\";position: absolute;border-left: 1px solid gray;box-sizing: border-box;top: 0;bottom: 0;left: 50%;z-index: -1;}#sk-container-id-5 div.sk-parallel-item {display: flex;flex-direction: column;z-index: 1;position: relative;background-color: white;}#sk-container-id-5 div.sk-parallel-item:first-child::after {align-self: flex-end;width: 50%;}#sk-container-id-5 div.sk-parallel-item:last-child::after {align-self: flex-start;width: 50%;}#sk-container-id-5 div.sk-parallel-item:only-child::after {width: 0;}#sk-container-id-5 div.sk-dashed-wrapped {border: 1px dashed gray;margin: 0 0.4em 0.5em 0.4em;box-sizing: border-box;padding-bottom: 0.4em;background-color: white;}#sk-container-id-5 div.sk-label label {font-family: monospace;font-weight: bold;display: inline-block;line-height: 1.2em;}#sk-container-id-5 div.sk-label-container {text-align: center;}#sk-container-id-5 div.sk-container {/* jupyter's `normalize.less` sets `[hidden] { display: none; }` but bootstrap.min.css set `[hidden] { display: none !important; }` so we also need the `!important` here to be able to override the default hidden behavior on the sphinx rendered scikit-learn.org. See: https://github.com/scikit-learn/scikit-learn/issues/21755 */display: inline-block !important;position: relative;}#sk-container-id-5 div.sk-text-repr-fallback {display: none;}</style><div id=\"sk-container-id-5\" class=\"sk-top-container\"><div class=\"sk-text-repr-fallback\"><pre>LinearRegression()</pre><b>In a Jupyter environment, please rerun this cell to show the HTML representation or trust the notebook. <br />On GitHub, the HTML representation is unable to render, please try loading this page with nbviewer.org.</b></div><div class=\"sk-container\" hidden><div class=\"sk-item\"><div class=\"sk-estimator sk-toggleable\"><input class=\"sk-toggleable__control sk-hidden--visually\" id=\"sk-estimator-id-5\" type=\"checkbox\" checked><label for=\"sk-estimator-id-5\" class=\"sk-toggleable__label sk-toggleable__label-arrow\">LinearRegression</label><div class=\"sk-toggleable__content\"><pre>LinearRegression()</pre></div></div></div></div></div>"
      ],
      "text/plain": [
       "LinearRegression()"
      ]
     },
     "execution_count": 52,
     "metadata": {},
     "output_type": "execute_result"
    }
   ],
   "source": [
    "from sklearn.linear_model import LinearRegression\n",
    "\n",
    "multi_reg = LinearRegression()\n",
    "multi_reg.fit(X_train, y_train)"
   ]
  },
  {
   "cell_type": "markdown",
   "id": "e0e97403",
   "metadata": {},
   "source": [
    "## Modelin Tahminleri\n",
    "\n",
    "Test setini modele vererek tahminleri alıcaz ve ne kadar başarılı olduğunu görücez !"
   ]
  },
  {
   "cell_type": "code",
   "execution_count": 53,
   "id": "2dfae55e",
   "metadata": {},
   "outputs": [],
   "source": [
    "y_pred = multi_reg.predict(X_test)"
   ]
  },
  {
   "cell_type": "markdown",
   "id": "a25b26e0",
   "metadata": {},
   "source": [
    "Model tahminlerini görselleştirme ve model performansı "
   ]
  },
  {
   "cell_type": "code",
   "execution_count": 45,
   "id": "92568d81",
   "metadata": {},
   "outputs": [
    {
     "data": {
      "text/plain": [
       "<matplotlib.legend.Legend at 0x1cdd747d2e0>"
      ]
     },
     "execution_count": 45,
     "metadata": {},
     "output_type": "execute_result"
    },
    {
     "data": {
      "image/png": "[encoded data removed]",
      "text/plain": [
       "<Figure size 640x480 with 1 Axes>"
      ]
     },
     "metadata": {},
     "output_type": "display_data"
    }
   ],
   "source": [
    "plt.plot(y_test, color = 'blue', label = 'Gercek Degerler')\n",
    "plt.plot(y_pred, color = 'orange', label = 'Tahmini Degerler')\n",
    "plt.legend()"
   ]
  },
  {
   "cell_type": "code",
   "execution_count": 71,
   "id": "2ac02b96",
   "metadata": {},
   "outputs": [
    {
     "name": "stdout",
     "output_type": "stream",
     "text": [
      "Kesme Noktası(a):42554.17\n",
      "Regresyon Eğirisi: y = 42554.17 + 699.37x_1 + -959.28x_2 + 0.77x_3 + 0.03x_4 + 0.04x_5 \n"
     ]
    }
   ],
   "source": [
    "print(f\"Kesme Noktası(a):{multi_reg.intercept_:.2f}\")\n",
    "print(f\"Regresyon Eğirisi: y = {multi_reg.intercept_:.2f} + {multi_reg.coef_[0]:.2f}x_1 + {multi_reg.coef_[1]:.2f}x_2 + {multi_reg.coef_[2]:.2f}x_3 + {multi_reg.coef_[3]:.2f}x_4 + {multi_reg.coef_[4]:.2f}x_5 \")"
   ]
  },
  {
   "cell_type": "code",
   "execution_count": 72,
   "id": "7c9907ff",
   "metadata": {},
   "outputs": [
    {
     "name": "stdout",
     "output_type": "stream",
     "text": [
      "R-Kare hatası: 0.9347068473281129\n",
      "MAE: 7514.293659641384\n",
      "MSE: 83502864.03274305\n"
     ]
    }
   ],
   "source": [
    "from sklearn.metrics import mean_absolute_error, mean_squared_error, r2_score\n",
    "\n",
    "print(f\"R-Kare hatası: {r2_score(y_test,y_pred)}\")\n",
    "print(f\"MAE: {mean_absolute_error(y_test, y_pred)}\")\n",
    "print(f\"MSE: {mean_squared_error(y_test, y_pred)}\")\n"
   ]
  },
  {
   "cell_type": "code",
   "execution_count": null,
   "id": "550d1020",
   "metadata": {},
   "outputs": [],
   "source": []
  },
  {
   "cell_type": "code",
   "execution_count": null,
   "id": "4be2f8ee",
   "metadata": {},
   "outputs": [],
   "source": []
  },
  {
   "cell_type": "code",
   "execution_count": null,
   "id": "62773a17",
   "metadata": {},
   "outputs": [],
   "source": []
  },
  {
   "cell_type": "markdown",
   "id": "d99ddc5c",
   "metadata": {},
   "source": [
    "## Polinom Regresyon\n",
    "\n",
    "Bir bağımlı değişken ile bir veya daha fazla bağımsız değişken arasındaki ilişkiyi açıklamak için kullanılır. Bu ilişkiyi ifade etmek için doğrusal olmayan fonksiyonlar kullanır. Temel fikir, veri noktalarını en iyi şekilde tahmin etmek için bir polinomun katsayılarını ayarlamaktır.\n",
    "\n",
    "Doğrusal regresyon, yalnızca doğrusal ilişkileri modelleyebilirken, polinom regresyonu daha karmaşık ilişkileri ifade etmek için kullanır. \n",
    "\n",
    "**Polinom derecesi arttıkça** modelin esnekliği artar, ancak aynı zamanda aşırı uyma **(overfitting)** riski de artar.\n",
    "\n",
    "\n",
    "####  Polinom Regresyon Hipotezi\n",
    "\n",
    "y = a + bx + cx^2 + ... + nx^n \n",
    "\n",
    "Burada: \n",
    "- y, bağımlı değişken (tahmin etmeye çalıştığımız değişken)\n",
    "- x, bağımsız değişken (girdi değeri)\n",
    "- (b, c, n ..), eğim (regresyon katsayısı)\n",
    "- a, kesme noktası (kesme terimi), doğrunun y-eksenini kestiği noktayı temsil eder\n",
    "- n, polinom derecesi (kaçıncı dereceden polinom kullanılacağı)\n",
    "\n",
    "![figur](./Img/LineerReg/PolinomReg.png)\n",
    "\n",
    "\n",
    "####  Polinom Regresyon Hipotezi Bulma\n",
    "Basit lineer regresyon ve çoklu lineer regreson modelinde olduğu gibi, polinom regresyon modelinide bulmak için *matris yöntemi* veya *gradient descent* yöntemi kullanılabilir. Polinom regresyonlar aslında Çoklu lineer regresyonlardır. Bu sayede hipotezi bulmak için iki yöndem de kullanılabilir.\n",
    "\n",
    "----------------\n"
   ]
  },
  {
   "cell_type": "markdown",
   "id": "7a6ee495",
   "metadata": {},
   "source": [
    "# Örnek Çalışma"
   ]
  },
  {
   "cell_type": "code",
   "execution_count": 1,
   "id": "5e81d6c3",
   "metadata": {},
   "outputs": [],
   "source": [
    "# Kütüphane yükleme\n",
    "\n",
    "import pandas as pd\n",
    "import numpy as np\n",
    "import matplotlib.pyplot as plt"
   ]
  },
  {
   "cell_type": "code",
   "execution_count": 4,
   "id": "85a62b2f",
   "metadata": {},
   "outputs": [],
   "source": [
    "# Burada ki veriler uydurmadır.\n",
    "\n",
    "dataset = pd.read_csv('Dataset/maas.csv')"
   ]
  },
  {
   "cell_type": "code",
   "execution_count": 3,
   "id": "70a5bfa1",
   "metadata": {},
   "outputs": [
    {
     "data": {
      "text/html": [
       "<div>\n",
       "<style scoped>\n",
       "    .dataframe tbody tr th:only-of-type {\n",
       "        vertical-align: middle;\n",
       "    }\n",
       "\n",
       "    .dataframe tbody tr th {\n",
       "        vertical-align: top;\n",
       "    }\n",
       "\n",
       "    .dataframe thead th {\n",
       "        text-align: right;\n",
       "    }\n",
       "</style>\n",
       "<table border=\"1\" class=\"dataframe\">\n",
       "  <thead>\n",
       "    <tr style=\"text-align: right;\">\n",
       "      <th></th>\n",
       "      <th>unvan</th>\n",
       "      <th>Egitim Seviyesi</th>\n",
       "      <th>maas</th>\n",
       "    </tr>\n",
       "  </thead>\n",
       "  <tbody>\n",
       "    <tr>\n",
       "      <th>0</th>\n",
       "      <td>Cayci</td>\n",
       "      <td>1</td>\n",
       "      <td>2250</td>\n",
       "    </tr>\n",
       "    <tr>\n",
       "      <th>1</th>\n",
       "      <td>Sekreter</td>\n",
       "      <td>2</td>\n",
       "      <td>2500</td>\n",
       "    </tr>\n",
       "    <tr>\n",
       "      <th>2</th>\n",
       "      <td>Uzman Yardimcisi</td>\n",
       "      <td>3</td>\n",
       "      <td>3000</td>\n",
       "    </tr>\n",
       "    <tr>\n",
       "      <th>3</th>\n",
       "      <td>Uzman</td>\n",
       "      <td>4</td>\n",
       "      <td>4000</td>\n",
       "    </tr>\n",
       "    <tr>\n",
       "      <th>4</th>\n",
       "      <td>Proje Yoneticisi</td>\n",
       "      <td>5</td>\n",
       "      <td>5500</td>\n",
       "    </tr>\n",
       "    <tr>\n",
       "      <th>5</th>\n",
       "      <td>Sef</td>\n",
       "      <td>6</td>\n",
       "      <td>7500</td>\n",
       "    </tr>\n",
       "    <tr>\n",
       "      <th>6</th>\n",
       "      <td>Mudur</td>\n",
       "      <td>7</td>\n",
       "      <td>10000</td>\n",
       "    </tr>\n",
       "    <tr>\n",
       "      <th>7</th>\n",
       "      <td>Direktor</td>\n",
       "      <td>8</td>\n",
       "      <td>15000</td>\n",
       "    </tr>\n",
       "    <tr>\n",
       "      <th>8</th>\n",
       "      <td>C-level</td>\n",
       "      <td>9</td>\n",
       "      <td>25000</td>\n",
       "    </tr>\n",
       "    <tr>\n",
       "      <th>9</th>\n",
       "      <td>CEO</td>\n",
       "      <td>10</td>\n",
       "      <td>50000</td>\n",
       "    </tr>\n",
       "  </tbody>\n",
       "</table>\n",
       "</div>"
      ],
      "text/plain": [
       "              unvan  Egitim Seviyesi   maas\n",
       "0             Cayci                1   2250\n",
       "1          Sekreter                2   2500\n",
       "2  Uzman Yardimcisi                3   3000\n",
       "3             Uzman                4   4000\n",
       "4  Proje Yoneticisi                5   5500\n",
       "5               Sef                6   7500\n",
       "6             Mudur                7  10000\n",
       "7          Direktor                8  15000\n",
       "8           C-level                9  25000\n",
       "9               CEO               10  50000"
      ]
     },
     "execution_count": 3,
     "metadata": {},
     "output_type": "execute_result"
    }
   ],
   "source": [
    "dataset.head(10)"
   ]
  },
  {
   "cell_type": "markdown",
   "id": "70a39b69",
   "metadata": {},
   "source": [
    "#### Veriyi düzenleme\n",
    "\n",
    "Bu örnekte veriyi düzenlemeye gerek yok. Çünkü ünvan kısmını kullanmayacağız. Eğitim seviyesi kolonundan faydalanarak maas değerini bulmaya çalışacağız.\n",
    "\n",
    "Verinin hangi regresyon modeline uygun olduğunu anlamak için görselleştirme yaptık."
   ]
  },
  {
   "cell_type": "code",
   "execution_count": 5,
   "id": "055eeb73",
   "metadata": {},
   "outputs": [
    {
     "data": {
      "text/plain": [
       "Text(0, 0.5, 'Maas')"
      ]
     },
     "execution_count": 5,
     "metadata": {},
     "output_type": "execute_result"
    },
    {
     "data": {
      "image/png": "[encoded data removed]",
      "text/plain": [
       "<Figure size 640x480 with 1 Axes>"
      ]
     },
     "metadata": {},
     "output_type": "display_data"
    }
   ],
   "source": [
    "plt.scatter(dataset.iloc[:,1], dataset.iloc[:,2])\n",
    "plt.xlabel('Eğitim seviyesi')\n",
    "plt.ylabel('Maas')"
   ]
  },
  {
   "cell_type": "code",
   "execution_count": 20,
   "id": "4a8d3207",
   "metadata": {},
   "outputs": [],
   "source": [
    "# Veriyi ayırma\n",
    "\n",
    "X = dataset.iloc[:,1].values.reshape(-1,1)\n",
    "y = dataset.iloc[:,-1].values.reshape(-1,1)"
   ]
  },
  {
   "cell_type": "markdown",
   "id": "35a4497b",
   "metadata": {},
   "source": [
    "## Eğitim ve Test Verisi ayrımı\n",
    "\n",
    "Eğitim ve test verisi ayrımı yapmıcaz. Çünkü elimizde hali hazırda az miktarda veri var."
   ]
  },
  {
   "cell_type": "code",
   "execution_count": 21,
   "id": "6cfb7f74",
   "metadata": {},
   "outputs": [],
   "source": [
    "X_train = X\n",
    "y_train = y"
   ]
  },
  {
   "cell_type": "markdown",
   "id": "13c6a327",
   "metadata": {},
   "source": [
    "## Polinom Regresyon oluşturma ve eğitme\n",
    "\n",
    "*PolynomialFeatures* fonksiyonuna parametre olarak verdiğimiz *degree* polinom fonksiyonumuzun derecesini verir. Derece ne kadar büyürse **overfitting** olma olasılığı artar.\n",
    "\n",
    "Burada x_ploy adında bir değişken oluşturduk. Bu değişken bizim girdi olan x değerlerimizin n. derecesini aldı ve aynı satır üstüne yazdı. Aynı zamanda ilk kolona 1 değerleri ekledi. 1 değerini neden eklediğini anlamak için **Matris Yöntemi** çözümünü anlamanız gerekli.\n",
    "\n",
    "Hem modeli eğitirken hem de tahmin için x_poly nesnesini kullanıcaz."
   ]
  },
  {
   "cell_type": "code",
   "execution_count": 40,
   "id": "2afe1a9c",
   "metadata": {},
   "outputs": [
    {
     "data": {
      "text/plain": [
       "array([[  1.,   1.,   1.],\n",
       "       [  1.,   2.,   4.],\n",
       "       [  1.,   3.,   9.],\n",
       "       [  1.,   4.,  16.],\n",
       "       [  1.,   5.,  25.],\n",
       "       [  1.,   6.,  36.],\n",
       "       [  1.,   7.,  49.],\n",
       "       [  1.,   8.,  64.],\n",
       "       [  1.,   9.,  81.],\n",
       "       [  1.,  10., 100.]])"
      ]
     },
     "execution_count": 40,
     "metadata": {},
     "output_type": "execute_result"
    }
   ],
   "source": [
    "from sklearn.preprocessing import PolynomialFeatures\n",
    "from sklearn.linear_model import LinearRegression\n",
    "\n",
    "poly_reg = PolynomialFeatures(degree = 2) \n",
    "\n",
    "x_poly = poly_reg.fit_transform(X_train)\n",
    "\n",
    "x_poly"
   ]
  },
  {
   "cell_type": "code",
   "execution_count": 41,
   "id": "d97241a4",
   "metadata": {},
   "outputs": [
    {
     "data": {
      "text/html": [
       "<style>#sk-container-id-6 {color: black;background-color: white;}#sk-container-id-6 pre{padding: 0;}#sk-container-id-6 div.sk-toggleable {background-color: white;}#sk-container-id-6 label.sk-toggleable__label {cursor: pointer;display: block;width: 100%;margin-bottom: 0;padding: 0.3em;box-sizing: border-box;text-align: center;}#sk-container-id-6 label.sk-toggleable__label-arrow:before {content: \"▸\";float: left;margin-right: 0.25em;color: #696969;}#sk-container-id-6 label.sk-toggleable__label-arrow:hover:before {color: black;}#sk-container-id-6 div.sk-estimator:hover label.sk-toggleable__label-arrow:before {color: black;}#sk-container-id-6 div.sk-toggleable__content {max-height: 0;max-width: 0;overflow: hidden;text-align: left;background-color: #f0f8ff;}#sk-container-id-6 div.sk-toggleable__content pre {margin: 0.2em;color: black;border-radius: 0.25em;background-color: #f0f8ff;}#sk-container-id-6 input.sk-toggleable__control:checked~div.sk-toggleable__content {max-height: 200px;max-width: 100%;overflow: auto;}#sk-container-id-6 input.sk-toggleable__control:checked~label.sk-toggleable__label-arrow:before {content: \"▾\";}#sk-container-id-6 div.sk-estimator input.sk-toggleable__control:checked~label.sk-toggleable__label {background-color: #d4ebff;}#sk-container-id-6 div.sk-label input.sk-toggleable__control:checked~label.sk-toggleable__label {background-color: #d4ebff;}#sk-container-id-6 input.sk-hidden--visually {border: 0;clip: rect(1px 1px 1px 1px);clip: rect(1px, 1px, 1px, 1px);height: 1px;margin: -1px;overflow: hidden;padding: 0;position: absolute;width: 1px;}#sk-container-id-6 div.sk-estimator {font-family: monospace;background-color: #f0f8ff;border: 1px dotted black;border-radius: 0.25em;box-sizing: border-box;margin-bottom: 0.5em;}#sk-container-id-6 div.sk-estimator:hover {background-color: #d4ebff;}#sk-container-id-6 div.sk-parallel-item::after {content: \"\";width: 100%;border-bottom: 1px solid gray;flex-grow: 1;}#sk-container-id-6 div.sk-label:hover label.sk-toggleable__label {background-color: #d4ebff;}#sk-container-id-6 div.sk-serial::before {content: \"\";position: absolute;border-left: 1px solid gray;box-sizing: border-box;top: 0;bottom: 0;left: 50%;z-index: 0;}#sk-container-id-6 div.sk-serial {display: flex;flex-direction: column;align-items: center;background-color: white;padding-right: 0.2em;padding-left: 0.2em;position: relative;}#sk-container-id-6 div.sk-item {position: relative;z-index: 1;}#sk-container-id-6 div.sk-parallel {display: flex;align-items: stretch;justify-content: center;background-color: white;position: relative;}#sk-container-id-6 div.sk-item::before, #sk-container-id-6 div.sk-parallel-item::before {content: \"\";position: absolute;border-left: 1px solid gray;box-sizing: border-box;top: 0;bottom: 0;left: 50%;z-index: -1;}#sk-container-id-6 div.sk-parallel-item {display: flex;flex-direction: column;z-index: 1;position: relative;background-color: white;}#sk-container-id-6 div.sk-parallel-item:first-child::after {align-self: flex-end;width: 50%;}#sk-container-id-6 div.sk-parallel-item:last-child::after {align-self: flex-start;width: 50%;}#sk-container-id-6 div.sk-parallel-item:only-child::after {width: 0;}#sk-container-id-6 div.sk-dashed-wrapped {border: 1px dashed gray;margin: 0 0.4em 0.5em 0.4em;box-sizing: border-box;padding-bottom: 0.4em;background-color: white;}#sk-container-id-6 div.sk-label label {font-family: monospace;font-weight: bold;display: inline-block;line-height: 1.2em;}#sk-container-id-6 div.sk-label-container {text-align: center;}#sk-container-id-6 div.sk-container {/* jupyter's `normalize.less` sets `[hidden] { display: none; }` but bootstrap.min.css set `[hidden] { display: none !important; }` so we also need the `!important` here to be able to override the default hidden behavior on the sphinx rendered scikit-learn.org. See: https://github.com/scikit-learn/scikit-learn/issues/21755 */display: inline-block !important;position: relative;}#sk-container-id-6 div.sk-text-repr-fallback {display: none;}</style><div id=\"sk-container-id-6\" class=\"sk-top-container\"><div class=\"sk-text-repr-fallback\"><pre>LinearRegression()</pre><b>In a Jupyter environment, please rerun this cell to show the HTML representation or trust the notebook. <br />On GitHub, the HTML representation is unable to render, please try loading this page with nbviewer.org.</b></div><div class=\"sk-container\" hidden><div class=\"sk-item\"><div class=\"sk-estimator sk-toggleable\"><input class=\"sk-toggleable__control sk-hidden--visually\" id=\"sk-estimator-id-6\" type=\"checkbox\" checked><label for=\"sk-estimator-id-6\" class=\"sk-toggleable__label sk-toggleable__label-arrow\">LinearRegression</label><div class=\"sk-toggleable__content\"><pre>LinearRegression()</pre></div></div></div></div></div>"
      ],
      "text/plain": [
       "LinearRegression()"
      ]
     },
     "execution_count": 41,
     "metadata": {},
     "output_type": "execute_result"
    }
   ],
   "source": [
    "# Model oluşturma ve eğitme\n",
    "\n",
    "lin_reg = LinearRegression()\n",
    "lin_reg.fit(x_poly,y_train)"
   ]
  },
  {
   "cell_type": "markdown",
   "id": "dba500e4",
   "metadata": {},
   "source": [
    "## Modelin Tahminleri\n",
    "\n",
    "Elimizde az veri olduğu için verileri test ve train olarak ayırmamıştık. X_poly verisini hem test hem eğitim verisi olarak kullanıcaz. Çünkü modelimiz bizden 3 öz nitelik istiyor."
   ]
  },
  {
   "cell_type": "code",
   "execution_count": 42,
   "id": "5d607d08",
   "metadata": {},
   "outputs": [],
   "source": [
    "y_pred = lin_reg.predict(x_poly)"
   ]
  },
  {
   "cell_type": "code",
   "execution_count": 46,
   "id": "620196cf",
   "metadata": {},
   "outputs": [
    {
     "data": {
      "text/plain": [
       "<matplotlib.legend.Legend at 0x23b4bc27e50>"
      ]
     },
     "execution_count": 46,
     "metadata": {},
     "output_type": "execute_result"
    },
    {
     "data": {
      "image/png": "[encoded data removed]",
      "text/plain": [
       "<Figure size 640x480 with 1 Axes>"
      ]
     },
     "metadata": {},
     "output_type": "display_data"
    }
   ],
   "source": [
    "plt.scatter(X,y, color = 'b', label = 'Gercek Degerler')\n",
    "plt.plot(X,y_pred, color = 'orange', label = 'Polinom Reg Modeli')\n",
    "plt.legend()"
   ]
  },
  {
   "cell_type": "markdown",
   "id": "55855bfc",
   "metadata": {},
   "source": [
    "#### Polinom Regresyon Kullanmak Yerine Lineer Regresyon Modeli Kullansaydık\n",
    "\n",
    "Lineer model kullanmış olsaydık sonuçlarımızda büyük sapmalar olucaktı"
   ]
  },
  {
   "cell_type": "code",
   "execution_count": 48,
   "id": "f86e7342",
   "metadata": {},
   "outputs": [
    {
     "data": {
      "text/html": [
       "<style>#sk-container-id-8 {color: black;background-color: white;}#sk-container-id-8 pre{padding: 0;}#sk-container-id-8 div.sk-toggleable {background-color: white;}#sk-container-id-8 label.sk-toggleable__label {cursor: pointer;display: block;width: 100%;margin-bottom: 0;padding: 0.3em;box-sizing: border-box;text-align: center;}#sk-container-id-8 label.sk-toggleable__label-arrow:before {content: \"▸\";float: left;margin-right: 0.25em;color: #696969;}#sk-container-id-8 label.sk-toggleable__label-arrow:hover:before {color: black;}#sk-container-id-8 div.sk-estimator:hover label.sk-toggleable__label-arrow:before {color: black;}#sk-container-id-8 div.sk-toggleable__content {max-height: 0;max-width: 0;overflow: hidden;text-align: left;background-color: #f0f8ff;}#sk-container-id-8 div.sk-toggleable__content pre {margin: 0.2em;color: black;border-radius: 0.25em;background-color: #f0f8ff;}#sk-container-id-8 input.sk-toggleable__control:checked~div.sk-toggleable__content {max-height: 200px;max-width: 100%;overflow: auto;}#sk-container-id-8 input.sk-toggleable__control:checked~label.sk-toggleable__label-arrow:before {content: \"▾\";}#sk-container-id-8 div.sk-estimator input.sk-toggleable__control:checked~label.sk-toggleable__label {background-color: #d4ebff;}#sk-container-id-8 div.sk-label input.sk-toggleable__control:checked~label.sk-toggleable__label {background-color: #d4ebff;}#sk-container-id-8 input.sk-hidden--visually {border: 0;clip: rect(1px 1px 1px 1px);clip: rect(1px, 1px, 1px, 1px);height: 1px;margin: -1px;overflow: hidden;padding: 0;position: absolute;width: 1px;}#sk-container-id-8 div.sk-estimator {font-family: monospace;background-color: #f0f8ff;border: 1px dotted black;border-radius: 0.25em;box-sizing: border-box;margin-bottom: 0.5em;}#sk-container-id-8 div.sk-estimator:hover {background-color: #d4ebff;}#sk-container-id-8 div.sk-parallel-item::after {content: \"\";width: 100%;border-bottom: 1px solid gray;flex-grow: 1;}#sk-container-id-8 div.sk-label:hover label.sk-toggleable__label {background-color: #d4ebff;}#sk-container-id-8 div.sk-serial::before {content: \"\";position: absolute;border-left: 1px solid gray;box-sizing: border-box;top: 0;bottom: 0;left: 50%;z-index: 0;}#sk-container-id-8 div.sk-serial {display: flex;flex-direction: column;align-items: center;background-color: white;padding-right: 0.2em;padding-left: 0.2em;position: relative;}#sk-container-id-8 div.sk-item {position: relative;z-index: 1;}#sk-container-id-8 div.sk-parallel {display: flex;align-items: stretch;justify-content: center;background-color: white;position: relative;}#sk-container-id-8 div.sk-item::before, #sk-container-id-8 div.sk-parallel-item::before {content: \"\";position: absolute;border-left: 1px solid gray;box-sizing: border-box;top: 0;bottom: 0;left: 50%;z-index: -1;}#sk-container-id-8 div.sk-parallel-item {display: flex;flex-direction: column;z-index: 1;position: relative;background-color: white;}#sk-container-id-8 div.sk-parallel-item:first-child::after {align-self: flex-end;width: 50%;}#sk-container-id-8 div.sk-parallel-item:last-child::after {align-self: flex-start;width: 50%;}#sk-container-id-8 div.sk-parallel-item:only-child::after {width: 0;}#sk-container-id-8 div.sk-dashed-wrapped {border: 1px dashed gray;margin: 0 0.4em 0.5em 0.4em;box-sizing: border-box;padding-bottom: 0.4em;background-color: white;}#sk-container-id-8 div.sk-label label {font-family: monospace;font-weight: bold;display: inline-block;line-height: 1.2em;}#sk-container-id-8 div.sk-label-container {text-align: center;}#sk-container-id-8 div.sk-container {/* jupyter's `normalize.less` sets `[hidden] { display: none; }` but bootstrap.min.css set `[hidden] { display: none !important; }` so we also need the `!important` here to be able to override the default hidden behavior on the sphinx rendered scikit-learn.org. See: https://github.com/scikit-learn/scikit-learn/issues/21755 */display: inline-block !important;position: relative;}#sk-container-id-8 div.sk-text-repr-fallback {display: none;}</style><div id=\"sk-container-id-8\" class=\"sk-top-container\"><div class=\"sk-text-repr-fallback\"><pre>LinearRegression()</pre><b>In a Jupyter environment, please rerun this cell to show the HTML representation or trust the notebook. <br />On GitHub, the HTML representation is unable to render, please try loading this page with nbviewer.org.</b></div><div class=\"sk-container\" hidden><div class=\"sk-item\"><div class=\"sk-estimator sk-toggleable\"><input class=\"sk-toggleable__control sk-hidden--visually\" id=\"sk-estimator-id-8\" type=\"checkbox\" checked><label for=\"sk-estimator-id-8\" class=\"sk-toggleable__label sk-toggleable__label-arrow\">LinearRegression</label><div class=\"sk-toggleable__content\"><pre>LinearRegression()</pre></div></div></div></div></div>"
      ],
      "text/plain": [
       "LinearRegression()"
      ]
     },
     "execution_count": 48,
     "metadata": {},
     "output_type": "execute_result"
    }
   ],
   "source": [
    "#Model oluşturma\n",
    "\n",
    "lin_reg2 = LinearRegression()\n",
    "lin_reg2.fit(X_train,y_train)"
   ]
  },
  {
   "cell_type": "code",
   "execution_count": 51,
   "id": "ce825148",
   "metadata": {},
   "outputs": [
    {
     "data": {
      "text/plain": [
       "<matplotlib.legend.Legend at 0x23b4cc97af0>"
      ]
     },
     "execution_count": 51,
     "metadata": {},
     "output_type": "execute_result"
    },
    {
     "data": {
      "image/png": "[encoded data removed]",
      "text/plain": [
       "<Figure size 640x480 with 1 Axes>"
      ]
     },
     "metadata": {},
     "output_type": "display_data"
    }
   ],
   "source": [
    "# Modeli grafik olarak gösterme\n",
    "\n",
    "plt.scatter(X,y, color = 'b', label = 'Gercek Degerler')\n",
    "plt.plot(X,y_pred, color = 'orange', label = 'Polinom Reg Modeli')\n",
    "plt.plot(X,lin_reg2.predict(X_train), color = 'green', label = 'Lineer Reg Modeli')\n",
    "plt.legend()"
   ]
  },
  {
   "cell_type": "code",
   "execution_count": 77,
   "id": "ffdcc2f4",
   "metadata": {},
   "outputs": [
    {
     "name": "stdout",
     "output_type": "stream",
     "text": [
      "Kesme Noktası(a):11608.33 \n",
      "Regresyon Eğirisi: y = 11608.33 + -6643.56x + 971.59x^2 \n"
     ]
    }
   ],
   "source": [
    "print(f\"Kesme Noktası(a):{lin_reg.intercept_[0]:.2f} \")\n",
    "print(f\"Regresyon Eğirisi: y = {lin_reg.intercept_[0]:.2f} + {lin_reg.coef_[0,1]:.2f}x + {lin_reg.coef_[0,2]:.2f}x^2 \")"
   ]
  },
  {
   "cell_type": "code",
   "execution_count": null,
   "id": "382acf2a",
   "metadata": {},
   "outputs": [],
   "source": []
  }
 ],
 "metadata": {
  "kernelspec": {
   "display_name": "Python 3 (ipykernel)",
   "language": "python",
   "name": "python3"
  },
  "language_info": {
   "codemirror_mode": {
    "name": "ipython",
    "version": 3
   },
   "file_extension": ".py",
   "mimetype": "text/x-python",
   "name": "python",
   "nbconvert_exporter": "python",
   "pygments_lexer": "ipython3",
   "version": "3.8.17"
  }
 },
 "nbformat": 4,
 "nbformat_minor": 5
}
